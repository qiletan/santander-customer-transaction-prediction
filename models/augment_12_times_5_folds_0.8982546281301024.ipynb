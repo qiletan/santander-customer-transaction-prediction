{
 "cells": [
  {
   "cell_type": "code",
   "execution_count": 188,
   "metadata": {},
   "outputs": [],
   "source": [
    "import numpy as np\n",
    "import pandas as pd\n",
    "from sklearn import preprocessing\n",
    "import lightgbm as lgb\n",
    "import os\n",
    "import shutil\n",
    "import matplotlib.pyplot as plt\n",
    "import seaborn as sns\n",
    "from sklearn.model_selection import StratifiedKFold\n",
    "from sklearn.linear_model import LogisticRegression\n",
    "from sklearn.metrics import roc_auc_score\n",
    "\n",
    "pd.options.display.max_columns = 500\n",
    "#import pandas_profiling"
   ]
  },
  {
   "cell_type": "code",
   "execution_count": 189,
   "metadata": {},
   "outputs": [],
   "source": [
    "train_df = pd.read_csv('../data/train.csv')\n",
    "test_df = pd.read_csv('../data/test.csv')"
   ]
  },
  {
   "cell_type": "code",
   "execution_count": 190,
   "metadata": {},
   "outputs": [],
   "source": [
    "random_state = 42\n",
    "np.random.seed(random_state)"
   ]
  },
  {
   "cell_type": "code",
   "execution_count": 191,
   "metadata": {},
   "outputs": [],
   "source": [
    "\n",
    "def augmentation(x=None,y=None,upsample_times=2):\n",
    "    x_pos = x[y==1].copy()\n",
    "    y_pos = y[y==1].copy()\n",
    "    \n",
    "    aug_x_pos = x_pos.copy()\n",
    "    \n",
    "    if upsample_times ==0:\n",
    "        x_pos_temp = np.zeros(x_pos.shape)\n",
    "        for i in range(x_pos.shape[1]):\n",
    "            pos_values = x_pos.iloc[:,i].values\n",
    "            np.random.shuffle(pos_values)\n",
    "            x_pos_temp[:,i] = pos_values\n",
    "\n",
    "        x_pos_temp = pd.DataFrame(x_pos_temp)\n",
    "        x_pos_temp.columns = x_pos.columns  \n",
    "        aug_x_pos = x_pos_temp    \n",
    "        aug_y_pos = np.ones(y_pos.shape[0]) \n",
    "        aug_x_pos = aug_x_pos.append(x[y==0]) \n",
    "        aug_y_pos = np.append(aug_y_pos,y[y==0]) \n",
    "    else:\n",
    "        for n in range(upsample_times):\n",
    "            x_pos_temp = np.zeros(x_pos.shape)\n",
    "\n",
    "            for i in range(x_pos.shape[1]):\n",
    "                pos_values = x_pos.iloc[:,i].values\n",
    "                np.random.shuffle(pos_values)\n",
    "                x_pos_temp[:,i] = pos_values\n",
    "\n",
    "            x_pos_temp = pd.DataFrame(x_pos_temp)\n",
    "            x_pos_temp.columns = x_pos.columns  \n",
    "            aug_x_pos = aug_x_pos.append(x_pos_temp)    \n",
    "\n",
    "        aug_y_pos = np.ones(y_pos.shape[0]*(upsample_times+1)) \n",
    "\n",
    "        aug_x_pos = aug_x_pos.append(x[y==0]) \n",
    "        aug_y_pos = np.append(aug_y_pos,y[y==0]) \n",
    "        \n",
    "    return aug_x_pos,aug_y_pos\n",
    "    \n",
    "    \n",
    "    \n",
    "    "
   ]
  },
  {
   "cell_type": "code",
   "execution_count": 192,
   "metadata": {},
   "outputs": [],
   "source": [
    "# train_df[var_list] = np.exp(train_df[var_list])\n",
    "# test_df[var_list] = np.exp(test_df[var_list])"
   ]
  },
  {
   "cell_type": "code",
   "execution_count": 204,
   "metadata": {},
   "outputs": [
    {
     "name": "stdout",
     "output_type": "stream",
     "text": [
      "Model: augment_12_times_5_folds\n"
     ]
    }
   ],
   "source": [
    "n_folds = 5\n",
    "random_seed = 26\n",
    "upsample_times = 12\n",
    "model = f'augment_{upsample_times}_times'\n",
    "\n",
    "model_name = \"{0}_{1}_folds\".format(model, n_folds)\n",
    "print(\"Model: {}\".format(model_name))"
   ]
  },
  {
   "cell_type": "code",
   "execution_count": 205,
   "metadata": {},
   "outputs": [],
   "source": [
    "#exclusion = ['ID_code', 'target']+ rank_var_list\n",
    "exclusion = ['ID_code', 'target'] \n",
    "feats = [c for c in train_df.columns if c not in exclusion]"
   ]
  },
  {
   "cell_type": "code",
   "execution_count": 206,
   "metadata": {},
   "outputs": [
    {
     "name": "stdout",
     "output_type": "stream",
     "text": [
      "Current Fold: 1\n",
      "AUC = 0.8973327478944458\n",
      "Current Fold: 2\n",
      "AUC = 0.8954601661656423\n",
      "Current Fold: 3\n",
      "AUC = 0.8999342503712677\n",
      "Current Fold: 4\n",
      "AUC = 0.9002596892110999\n",
      "Current Fold: 5\n",
      "AUC = 0.8983123935624849\n",
      "Overall AUC = 0.8982546281301024\n",
      "Saving submission file\n"
     ]
    }
   ],
   "source": [
    "clfs = []\n",
    "folds = StratifiedKFold(n_splits=n_folds, shuffle=True, random_state=random_seed)\n",
    "oof_preds = np.zeros((len(train_df), 1))\n",
    "test_preds = np.zeros((len(test_df), 1))\n",
    "\n",
    "\n",
    "X = train_df[feats]\n",
    "y = train_df['target']\n",
    "X_test = test_df[feats]\n",
    "test_ids = test_df.ID_code.values\n",
    "\n",
    "\n",
    "parameters = {\n",
    "    'objective': 'binary',\n",
    "    'metric': 'auc',\n",
    "    'is_unbalance': 'true',\n",
    "    #'scale_pos_weight': 400,\n",
    "    #'device' : 'gpu' ,\n",
    "    'boosting': 'gbdt',\n",
    "    'num_leaves': 31, #31\n",
    "    'feature_fraction': 0.5,\n",
    "    'bagging_fraction': 0.7,\n",
    "    'bagging_freq': 10,\n",
    "    'learning_rate': 0.05, #0.05\n",
    "    'verbose': 30\n",
    "    #'min_data_in_leaf': 200\n",
    "}\n",
    "\n",
    "feature_importance_df = pd.DataFrame()\n",
    "for fold_, (trn_, val_) in enumerate(folds.split(X, y)):\n",
    "    print(\"Current Fold: {}\".format(fold_+1))\n",
    "    trn_x, trn_y = X.iloc[trn_, :], y[trn_]\n",
    "    val_x, val_y = X.iloc[val_, :], y[val_]\n",
    "    trn_x, trn_y = augmentation(trn_x,trn_y,upsample_times)\n",
    "\n",
    "    trn_lgb = lgb.Dataset(trn_x, trn_y)\n",
    "    val_lgb = lgb.Dataset(val_x, val_y)\n",
    "    clf = lgb.train(parameters,\n",
    "                     train_set=trn_lgb,\n",
    "                     #valid_sets=[valid_data_lgb,holdout_data_lgb],\n",
    "                     valid_sets=[trn_lgb, val_lgb],\n",
    "                     num_boost_round=3000,\n",
    "                     early_stopping_rounds=50,\n",
    "                     verbose_eval=False)\n",
    "    \n",
    "\n",
    "\n",
    "    val_pred = clf.predict(val_x)\n",
    "    test_fold_pred = clf.predict(X_test)\n",
    "\n",
    "    print(\"AUC = {}\".format(roc_auc_score(val_y, val_pred)))\n",
    "    oof_preds[val_, :] = val_pred.reshape((-1, 1))\n",
    "    test_preds += test_fold_pred.reshape((-1, 1))\n",
    "    \n",
    "   # print('getting feature importance')\n",
    "    \n",
    "    fold_importance_df = pd.DataFrame()\n",
    "    fold_importance_df[\"feature\"] = feats\n",
    "    fold_importance_df[\"importance\"] = clf.feature_importance()\n",
    "    fold_importance_df[\"fold\"] = fold_ + 1\n",
    "    feature_importance_df = pd.concat([feature_importance_df, fold_importance_df], axis=0)\n",
    "    \n",
    "    \n",
    "test_preds /= n_folds\n",
    "roc_score = roc_auc_score(y, oof_preds.ravel())\n",
    "print(\"Overall AUC = {}\".format(roc_score))\n",
    "\n",
    "\n",
    "print(\"Saving submission file\")\n",
    "sample = pd.read_csv('../data/sample_submission.csv')\n",
    "sample.target = test_preds.astype(float)\n",
    "sample.ID_code = test_ids\n",
    "sample.to_csv('../submissions/{}_{}.csv'.format(model_name,str(roc_score)), index=False)\n",
    "\n",
    "#display_importances(feature_importance_df)\n"
   ]
  },
  {
   "cell_type": "code",
   "execution_count": 202,
   "metadata": {},
   "outputs": [
    {
     "data": {
      "application/javascript": [
       "var nb = IPython.notebook;\n",
       "var kernel = IPython.notebook.kernel;\n",
       "var command = \"NOTEBOOK_FULL_PATH = '\" + nb.base_url + nb.notebook_path + \"'\";\n",
       "kernel.execute(command);\n"
      ],
      "text/plain": [
       "<IPython.core.display.Javascript object>"
      ]
     },
     "metadata": {},
     "output_type": "display_data"
    }
   ],
   "source": [
    "%%javascript\n",
    "var nb = IPython.notebook;\n",
    "var kernel = IPython.notebook.kernel;\n",
    "var command = \"NOTEBOOK_FULL_PATH = '\" + nb.base_url + nb.notebook_path + \"'\";\n",
    "kernel.execute(command);"
   ]
  },
  {
   "cell_type": "code",
   "execution_count": 203,
   "metadata": {},
   "outputs": [
    {
     "data": {
      "text/plain": [
       "'../models/augment_9_times_5_folds_0.8977223362480411.ipynb'"
      ]
     },
     "execution_count": 203,
     "metadata": {},
     "output_type": "execute_result"
    }
   ],
   "source": [
    "\n",
    "\n",
    "shutil.copyfile(os.path.basename(NOTEBOOK_FULL_PATH), \n",
    "                             '../models/{}_{}.ipynb'.format(model_name, str(roc_score)))\n"
   ]
  },
  {
   "cell_type": "code",
   "execution_count": null,
   "metadata": {},
   "outputs": [],
   "source": []
  }
 ],
 "metadata": {
  "kernelspec": {
   "display_name": "Python 3",
   "language": "python",
   "name": "python3"
  },
  "language_info": {
   "codemirror_mode": {
    "name": "ipython",
    "version": 3
   },
   "file_extension": ".py",
   "mimetype": "text/x-python",
   "name": "python",
   "nbconvert_exporter": "python",
   "pygments_lexer": "ipython3",
   "version": "3.6.7"
  },
  "toc": {
   "base_numbering": 1,
   "nav_menu": {},
   "number_sections": true,
   "sideBar": true,
   "skip_h1_title": false,
   "title_cell": "Table of Contents",
   "title_sidebar": "Contents",
   "toc_cell": false,
   "toc_position": {},
   "toc_section_display": true,
   "toc_window_display": false
  }
 },
 "nbformat": 4,
 "nbformat_minor": 2
}
