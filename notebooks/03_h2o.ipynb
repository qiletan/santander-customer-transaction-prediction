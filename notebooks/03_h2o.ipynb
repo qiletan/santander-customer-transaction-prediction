{
 "cells": [
  {
   "cell_type": "code",
   "execution_count": 7,
   "metadata": {},
   "outputs": [],
   "source": [
    "import numpy as np\n",
    "import pandas as pd\n",
    "from sklearn import preprocessing\n",
    "import lightgbm as lgb\n",
    "import h2o\n",
    "from h2o.automl import H2OAutoML\n",
    "from sklearn.model_selection import train_test_split\n",
    "#import pandas_profiling"
   ]
  },
  {
   "cell_type": "code",
   "execution_count": 73,
   "metadata": {},
   "outputs": [],
   "source": [
    "train_df = pd.read_csv('../data/train.csv')\n",
    "test_df = pd.read_csv('../data/test.csv')"
   ]
  },
  {
   "cell_type": "code",
   "execution_count": 8,
   "metadata": {},
   "outputs": [
    {
     "name": "stdout",
     "output_type": "stream",
     "text": [
      "Model: h2o_0_folds\n"
     ]
    }
   ],
   "source": [
    "from sklearn.model_selection import StratifiedKFold\n",
    "from sklearn.linear_model import LogisticRegression\n",
    "from sklearn.metrics import roc_auc_score\n",
    "\n",
    "n_folds = 0\n",
    "random_seed = 26\n",
    "model = 'h2o'\n",
    "\n",
    "\n",
    "model_name = \"{0}_{1}_folds\".format(model, n_folds)\n",
    "print(\"Model: {}\".format(model_name))"
   ]
  },
  {
   "cell_type": "code",
   "execution_count": 13,
   "metadata": {},
   "outputs": [],
   "source": [
    "# X = train_df.iloc[:,2:]\n",
    "# y = train_df['target']\n",
    "\n",
    "train, valid = train_test_split(train_df, test_size=0.2)"
   ]
  },
  {
   "cell_type": "code",
   "execution_count": 14,
   "metadata": {},
   "outputs": [
    {
     "data": {
      "text/html": [
       "<div>\n",
       "<style scoped>\n",
       "    .dataframe tbody tr th:only-of-type {\n",
       "        vertical-align: middle;\n",
       "    }\n",
       "\n",
       "    .dataframe tbody tr th {\n",
       "        vertical-align: top;\n",
       "    }\n",
       "\n",
       "    .dataframe thead th {\n",
       "        text-align: right;\n",
       "    }\n",
       "</style>\n",
       "<table border=\"1\" class=\"dataframe\">\n",
       "  <thead>\n",
       "    <tr style=\"text-align: right;\">\n",
       "      <th></th>\n",
       "      <th>ID_code</th>\n",
       "      <th>target</th>\n",
       "      <th>var_0</th>\n",
       "      <th>var_1</th>\n",
       "      <th>var_2</th>\n",
       "      <th>var_3</th>\n",
       "      <th>var_4</th>\n",
       "      <th>var_5</th>\n",
       "      <th>var_6</th>\n",
       "      <th>var_7</th>\n",
       "      <th>...</th>\n",
       "      <th>var_190</th>\n",
       "      <th>var_191</th>\n",
       "      <th>var_192</th>\n",
       "      <th>var_193</th>\n",
       "      <th>var_194</th>\n",
       "      <th>var_195</th>\n",
       "      <th>var_196</th>\n",
       "      <th>var_197</th>\n",
       "      <th>var_198</th>\n",
       "      <th>var_199</th>\n",
       "    </tr>\n",
       "  </thead>\n",
       "  <tbody>\n",
       "    <tr>\n",
       "      <th>140686</th>\n",
       "      <td>train_140686</td>\n",
       "      <td>0</td>\n",
       "      <td>13.8544</td>\n",
       "      <td>-1.7014</td>\n",
       "      <td>11.1719</td>\n",
       "      <td>8.2697</td>\n",
       "      <td>9.7087</td>\n",
       "      <td>6.4796</td>\n",
       "      <td>7.4362</td>\n",
       "      <td>20.6544</td>\n",
       "      <td>...</td>\n",
       "      <td>7.4810</td>\n",
       "      <td>5.4282</td>\n",
       "      <td>-0.1123</td>\n",
       "      <td>-1.4447</td>\n",
       "      <td>14.8711</td>\n",
       "      <td>-2.0421</td>\n",
       "      <td>-7.2447</td>\n",
       "      <td>8.6219</td>\n",
       "      <td>16.4862</td>\n",
       "      <td>-1.7213</td>\n",
       "    </tr>\n",
       "    <tr>\n",
       "      <th>139605</th>\n",
       "      <td>train_139605</td>\n",
       "      <td>0</td>\n",
       "      <td>9.5581</td>\n",
       "      <td>-3.8057</td>\n",
       "      <td>8.2713</td>\n",
       "      <td>6.4919</td>\n",
       "      <td>9.8153</td>\n",
       "      <td>-1.1829</td>\n",
       "      <td>3.9474</td>\n",
       "      <td>20.1171</td>\n",
       "      <td>...</td>\n",
       "      <td>1.8109</td>\n",
       "      <td>11.3583</td>\n",
       "      <td>3.3764</td>\n",
       "      <td>4.1503</td>\n",
       "      <td>16.7433</td>\n",
       "      <td>-0.6018</td>\n",
       "      <td>7.0178</td>\n",
       "      <td>8.5348</td>\n",
       "      <td>18.7204</td>\n",
       "      <td>-0.4525</td>\n",
       "    </tr>\n",
       "  </tbody>\n",
       "</table>\n",
       "<p>2 rows × 202 columns</p>\n",
       "</div>"
      ],
      "text/plain": [
       "             ID_code  target    var_0   var_1    var_2   var_3   var_4  \\\n",
       "140686  train_140686       0  13.8544 -1.7014  11.1719  8.2697  9.7087   \n",
       "139605  train_139605       0   9.5581 -3.8057   8.2713  6.4919  9.8153   \n",
       "\n",
       "         var_5   var_6    var_7  ...  var_190  var_191  var_192  var_193  \\\n",
       "140686  6.4796  7.4362  20.6544  ...   7.4810   5.4282  -0.1123  -1.4447   \n",
       "139605 -1.1829  3.9474  20.1171  ...   1.8109  11.3583   3.3764   4.1503   \n",
       "\n",
       "        var_194  var_195  var_196  var_197  var_198  var_199  \n",
       "140686  14.8711  -2.0421  -7.2447   8.6219  16.4862  -1.7213  \n",
       "139605  16.7433  -0.6018   7.0178   8.5348  18.7204  -0.4525  \n",
       "\n",
       "[2 rows x 202 columns]"
      ]
     },
     "execution_count": 14,
     "metadata": {},
     "output_type": "execute_result"
    }
   ],
   "source": [
    "train.head(2)"
   ]
  },
  {
   "cell_type": "code",
   "execution_count": 22,
   "metadata": {},
   "outputs": [
    {
     "name": "stdout",
     "output_type": "stream",
     "text": [
      "Checking whether there is an H2O instance running at http://localhost:54321. connected.\n"
     ]
    },
    {
     "data": {
      "text/html": [
       "<div style=\"overflow:auto\"><table style=\"width:50%\"><tr><td>H2O cluster uptime:</td>\n",
       "<td>3 mins 35 secs</td></tr>\n",
       "<tr><td>H2O cluster timezone:</td>\n",
       "<td>Australia/Hobart</td></tr>\n",
       "<tr><td>H2O data parsing timezone:</td>\n",
       "<td>UTC</td></tr>\n",
       "<tr><td>H2O cluster version:</td>\n",
       "<td>3.22.1.4</td></tr>\n",
       "<tr><td>H2O cluster version age:</td>\n",
       "<td>10 days </td></tr>\n",
       "<tr><td>H2O cluster name:</td>\n",
       "<td>H2O_from_python_TanQ_xfmqls</td></tr>\n",
       "<tr><td>H2O cluster total nodes:</td>\n",
       "<td>1</td></tr>\n",
       "<tr><td>H2O cluster free memory:</td>\n",
       "<td>7.372 Gb</td></tr>\n",
       "<tr><td>H2O cluster total cores:</td>\n",
       "<td>4</td></tr>\n",
       "<tr><td>H2O cluster allowed cores:</td>\n",
       "<td>4</td></tr>\n",
       "<tr><td>H2O cluster status:</td>\n",
       "<td>locked, healthy</td></tr>\n",
       "<tr><td>H2O connection url:</td>\n",
       "<td>http://localhost:54321</td></tr>\n",
       "<tr><td>H2O connection proxy:</td>\n",
       "<td>None</td></tr>\n",
       "<tr><td>H2O internal security:</td>\n",
       "<td>False</td></tr>\n",
       "<tr><td>H2O API Extensions:</td>\n",
       "<td>Amazon S3, Algos, AutoML, Core V3, Core V4</td></tr>\n",
       "<tr><td>Python version:</td>\n",
       "<td>3.6.7 final</td></tr></table></div>"
      ],
      "text/plain": [
       "--------------------------  ------------------------------------------\n",
       "H2O cluster uptime:         3 mins 35 secs\n",
       "H2O cluster timezone:       Australia/Hobart\n",
       "H2O data parsing timezone:  UTC\n",
       "H2O cluster version:        3.22.1.4\n",
       "H2O cluster version age:    10 days\n",
       "H2O cluster name:           H2O_from_python_TanQ_xfmqls\n",
       "H2O cluster total nodes:    1\n",
       "H2O cluster free memory:    7.372 Gb\n",
       "H2O cluster total cores:    4\n",
       "H2O cluster allowed cores:  4\n",
       "H2O cluster status:         locked, healthy\n",
       "H2O connection url:         http://localhost:54321\n",
       "H2O connection proxy:\n",
       "H2O internal security:      False\n",
       "H2O API Extensions:         Amazon S3, Algos, AutoML, Core V3, Core V4\n",
       "Python version:             3.6.7 final\n",
       "--------------------------  ------------------------------------------"
      ]
     },
     "metadata": {},
     "output_type": "display_data"
    },
    {
     "name": "stdout",
     "output_type": "stream",
     "text": [
      "Parse progress: |█████████████████████████████████████████████████████████| 100%\n",
      "Parse progress: |█████████████████████████████████████████████████████████| 100%\n"
     ]
    },
    {
     "ename": "H2OResponseError",
     "evalue": "Server error java.lang.IllegalArgumentException:\n  Error: Field = stopping_metric cannot be set to value = auc\n  Request: POST /99/AutoMLBuilder\n    json: {'input_spec': {'response_column': 'target', 'training_frame': 'py_1_sid_88cf', 'sort_metric': 'auc', 'ignored_columns': ['ID_code']}, 'build_control': {'stopping_criteria': {'max_runtime_secs': 300, 'max_models': 100, 'stopping_metric': 'auc', 'stopping_rounds': 3, 'seed': 183}, 'nfolds': 5, 'keep_cross_validation_predictions': False, 'keep_cross_validation_models': False, 'keep_cross_validation_fold_assignment': False, 'project_name': 'automl_py_1_sid_88cf'}, 'build_models': {'exclude_algos': None}}\n",
     "output_type": "error",
     "traceback": [
      "\u001b[1;31m---------------------------------------------------------------------------\u001b[0m",
      "\u001b[1;31mH2OResponseError\u001b[0m                          Traceback (most recent call last)",
      "\u001b[1;32m<ipython-input-22-66ed75e6f4e5>\u001b[0m in \u001b[0;36m<module>\u001b[1;34m\u001b[0m\n\u001b[0;32m     19\u001b[0m                           )\n\u001b[0;32m     20\u001b[0m \u001b[1;33m\u001b[0m\u001b[0m\n\u001b[1;32m---> 21\u001b[1;33m \u001b[0maml_atp\u001b[0m\u001b[1;33m.\u001b[0m\u001b[0mtrain\u001b[0m\u001b[1;33m(\u001b[0m\u001b[0mx\u001b[0m\u001b[1;33m=\u001b[0m\u001b[0mfeats\u001b[0m\u001b[1;33m,\u001b[0m \u001b[0my\u001b[0m\u001b[1;33m=\u001b[0m\u001b[1;34m'target'\u001b[0m\u001b[1;33m,\u001b[0m \u001b[0mtraining_frame\u001b[0m\u001b[1;33m=\u001b[0m\u001b[0mdf_train_h2o\u001b[0m\u001b[1;33m)\u001b[0m\u001b[1;33m\u001b[0m\u001b[1;33m\u001b[0m\u001b[0m\n\u001b[0m\u001b[0;32m     22\u001b[0m \u001b[1;33m\u001b[0m\u001b[0m\n\u001b[0;32m     23\u001b[0m \u001b[1;31m# View the AutoML Leaderboard\u001b[0m\u001b[1;33m\u001b[0m\u001b[1;33m\u001b[0m\u001b[1;33m\u001b[0m\u001b[0m\n",
      "\u001b[1;32m~\\AppData\\Local\\Continuum\\anaconda3\\envs\\work\\lib\\site-packages\\h2o\\automl\\autoh2o.py\u001b[0m in \u001b[0;36mtrain\u001b[1;34m(self, x, y, training_frame, fold_column, weights_column, validation_frame, leaderboard_frame)\u001b[0m\n\u001b[0;32m    370\u001b[0m         \u001b[0mautoml_build_params\u001b[0m\u001b[1;33m[\u001b[0m\u001b[1;34m'build_models'\u001b[0m\u001b[1;33m]\u001b[0m  \u001b[1;33m=\u001b[0m \u001b[0mself\u001b[0m\u001b[1;33m.\u001b[0m\u001b[0mbuild_models\u001b[0m\u001b[1;33m\u001b[0m\u001b[1;33m\u001b[0m\u001b[0m\n\u001b[0;32m    371\u001b[0m \u001b[1;33m\u001b[0m\u001b[0m\n\u001b[1;32m--> 372\u001b[1;33m         \u001b[0mresp\u001b[0m \u001b[1;33m=\u001b[0m \u001b[0mh2o\u001b[0m\u001b[1;33m.\u001b[0m\u001b[0mapi\u001b[0m\u001b[1;33m(\u001b[0m\u001b[1;34m'POST /99/AutoMLBuilder'\u001b[0m\u001b[1;33m,\u001b[0m \u001b[0mjson\u001b[0m\u001b[1;33m=\u001b[0m\u001b[0mautoml_build_params\u001b[0m\u001b[1;33m)\u001b[0m\u001b[1;33m\u001b[0m\u001b[1;33m\u001b[0m\u001b[0m\n\u001b[0m\u001b[0;32m    373\u001b[0m         \u001b[1;32mif\u001b[0m \u001b[1;34m'job'\u001b[0m \u001b[1;32mnot\u001b[0m \u001b[1;32min\u001b[0m \u001b[0mresp\u001b[0m\u001b[1;33m:\u001b[0m\u001b[1;33m\u001b[0m\u001b[1;33m\u001b[0m\u001b[0m\n\u001b[0;32m    374\u001b[0m             \u001b[0mprint\u001b[0m\u001b[1;33m(\u001b[0m\u001b[1;34m\"Exception from the back end: \"\u001b[0m\u001b[1;33m)\u001b[0m\u001b[1;33m\u001b[0m\u001b[1;33m\u001b[0m\u001b[0m\n",
      "\u001b[1;32m~\\AppData\\Local\\Continuum\\anaconda3\\envs\\work\\lib\\site-packages\\h2o\\h2o.py\u001b[0m in \u001b[0;36mapi\u001b[1;34m(endpoint, data, json, filename, save_to)\u001b[0m\n\u001b[0;32m    103\u001b[0m     \u001b[1;31m# type checks are performed in H2OConnection class\u001b[0m\u001b[1;33m\u001b[0m\u001b[1;33m\u001b[0m\u001b[1;33m\u001b[0m\u001b[0m\n\u001b[0;32m    104\u001b[0m     \u001b[0m_check_connection\u001b[0m\u001b[1;33m(\u001b[0m\u001b[1;33m)\u001b[0m\u001b[1;33m\u001b[0m\u001b[1;33m\u001b[0m\u001b[0m\n\u001b[1;32m--> 105\u001b[1;33m     \u001b[1;32mreturn\u001b[0m \u001b[0mh2oconn\u001b[0m\u001b[1;33m.\u001b[0m\u001b[0mrequest\u001b[0m\u001b[1;33m(\u001b[0m\u001b[0mendpoint\u001b[0m\u001b[1;33m,\u001b[0m \u001b[0mdata\u001b[0m\u001b[1;33m=\u001b[0m\u001b[0mdata\u001b[0m\u001b[1;33m,\u001b[0m \u001b[0mjson\u001b[0m\u001b[1;33m=\u001b[0m\u001b[0mjson\u001b[0m\u001b[1;33m,\u001b[0m \u001b[0mfilename\u001b[0m\u001b[1;33m=\u001b[0m\u001b[0mfilename\u001b[0m\u001b[1;33m,\u001b[0m \u001b[0msave_to\u001b[0m\u001b[1;33m=\u001b[0m\u001b[0msave_to\u001b[0m\u001b[1;33m)\u001b[0m\u001b[1;33m\u001b[0m\u001b[1;33m\u001b[0m\u001b[0m\n\u001b[0m\u001b[0;32m    106\u001b[0m \u001b[1;33m\u001b[0m\u001b[0m\n\u001b[0;32m    107\u001b[0m \u001b[1;33m\u001b[0m\u001b[0m\n",
      "\u001b[1;32m~\\AppData\\Local\\Continuum\\anaconda3\\envs\\work\\lib\\site-packages\\h2o\\backend\\connection.py\u001b[0m in \u001b[0;36mrequest\u001b[1;34m(self, endpoint, data, json, filename, save_to)\u001b[0m\n\u001b[0;32m    405\u001b[0m                                     auth=self._auth, verify=self._verify_ssl_cert, proxies=self._proxies)\n\u001b[0;32m    406\u001b[0m             \u001b[0mself\u001b[0m\u001b[1;33m.\u001b[0m\u001b[0m_log_end_transaction\u001b[0m\u001b[1;33m(\u001b[0m\u001b[0mstart_time\u001b[0m\u001b[1;33m,\u001b[0m \u001b[0mresp\u001b[0m\u001b[1;33m)\u001b[0m\u001b[1;33m\u001b[0m\u001b[1;33m\u001b[0m\u001b[0m\n\u001b[1;32m--> 407\u001b[1;33m             \u001b[1;32mreturn\u001b[0m \u001b[0mself\u001b[0m\u001b[1;33m.\u001b[0m\u001b[0m_process_response\u001b[0m\u001b[1;33m(\u001b[0m\u001b[0mresp\u001b[0m\u001b[1;33m,\u001b[0m \u001b[0msave_to\u001b[0m\u001b[1;33m)\u001b[0m\u001b[1;33m\u001b[0m\u001b[1;33m\u001b[0m\u001b[0m\n\u001b[0m\u001b[0;32m    408\u001b[0m \u001b[1;33m\u001b[0m\u001b[0m\n\u001b[0;32m    409\u001b[0m         \u001b[1;32mexcept\u001b[0m \u001b[1;33m(\u001b[0m\u001b[0mrequests\u001b[0m\u001b[1;33m.\u001b[0m\u001b[0mexceptions\u001b[0m\u001b[1;33m.\u001b[0m\u001b[0mConnectionError\u001b[0m\u001b[1;33m,\u001b[0m \u001b[0mrequests\u001b[0m\u001b[1;33m.\u001b[0m\u001b[0mexceptions\u001b[0m\u001b[1;33m.\u001b[0m\u001b[0mHTTPError\u001b[0m\u001b[1;33m)\u001b[0m \u001b[1;32mas\u001b[0m \u001b[0me\u001b[0m\u001b[1;33m:\u001b[0m\u001b[1;33m\u001b[0m\u001b[1;33m\u001b[0m\u001b[0m\n",
      "\u001b[1;32m~\\AppData\\Local\\Continuum\\anaconda3\\envs\\work\\lib\\site-packages\\h2o\\backend\\connection.py\u001b[0m in \u001b[0;36m_process_response\u001b[1;34m(response, save_to)\u001b[0m\n\u001b[0;32m    741\u001b[0m         \u001b[1;31m# Client errors (400 = \"Bad Request\", 404 = \"Not Found\", 412 = \"Precondition Failed\")\u001b[0m\u001b[1;33m\u001b[0m\u001b[1;33m\u001b[0m\u001b[1;33m\u001b[0m\u001b[0m\n\u001b[0;32m    742\u001b[0m         \u001b[1;32mif\u001b[0m \u001b[0mstatus_code\u001b[0m \u001b[1;32min\u001b[0m \u001b[1;33m{\u001b[0m\u001b[1;36m400\u001b[0m\u001b[1;33m,\u001b[0m \u001b[1;36m404\u001b[0m\u001b[1;33m,\u001b[0m \u001b[1;36m412\u001b[0m\u001b[1;33m}\u001b[0m \u001b[1;32mand\u001b[0m \u001b[0misinstance\u001b[0m\u001b[1;33m(\u001b[0m\u001b[0mdata\u001b[0m\u001b[1;33m,\u001b[0m \u001b[1;33m(\u001b[0m\u001b[0mH2OErrorV3\u001b[0m\u001b[1;33m,\u001b[0m \u001b[0mH2OModelBuilderErrorV3\u001b[0m\u001b[1;33m)\u001b[0m\u001b[1;33m)\u001b[0m\u001b[1;33m:\u001b[0m\u001b[1;33m\u001b[0m\u001b[1;33m\u001b[0m\u001b[0m\n\u001b[1;32m--> 743\u001b[1;33m             \u001b[1;32mraise\u001b[0m \u001b[0mH2OResponseError\u001b[0m\u001b[1;33m(\u001b[0m\u001b[0mdata\u001b[0m\u001b[1;33m)\u001b[0m\u001b[1;33m\u001b[0m\u001b[1;33m\u001b[0m\u001b[0m\n\u001b[0m\u001b[0;32m    744\u001b[0m \u001b[1;33m\u001b[0m\u001b[0m\n\u001b[0;32m    745\u001b[0m         \u001b[1;31m# Server errors (notably 500 = \"Server Error\")\u001b[0m\u001b[1;33m\u001b[0m\u001b[1;33m\u001b[0m\u001b[1;33m\u001b[0m\u001b[0m\n",
      "\u001b[1;31mH2OResponseError\u001b[0m: Server error java.lang.IllegalArgumentException:\n  Error: Field = stopping_metric cannot be set to value = auc\n  Request: POST /99/AutoMLBuilder\n    json: {'input_spec': {'response_column': 'target', 'training_frame': 'py_1_sid_88cf', 'sort_metric': 'auc', 'ignored_columns': ['ID_code']}, 'build_control': {'stopping_criteria': {'max_runtime_secs': 300, 'max_models': 100, 'stopping_metric': 'auc', 'stopping_rounds': 3, 'seed': 183}, 'nfolds': 5, 'keep_cross_validation_predictions': False, 'keep_cross_validation_models': False, 'keep_cross_validation_fold_assignment': False, 'project_name': 'automl_py_1_sid_88cf'}, 'build_models': {'exclude_algos': None}}\n"
     ]
    }
   ],
   "source": [
    "h2o.init()\n",
    "\n",
    "# Convert to an h2o frame\n",
    "df_train_h2o = h2o.H2OFrame(train_df)\n",
    "df_test_h2o = h2o.H2OFrame(test_df)\n",
    "\n",
    "feats = [i for i in train.columns if i not in ['target','ID_code']]\n",
    "# For binary classification, response should be a factor\n",
    "df_train_h2o['target'] = df_train_h2o['target'].asfactor()\n",
    "#df_valid_h2o['target'] = df_valid_h2o['target'].asfactor()\n",
    "\n"
   ]
  },
  {
   "cell_type": "code",
   "execution_count": 24,
   "metadata": {},
   "outputs": [
    {
     "name": "stdout",
     "output_type": "stream",
     "text": [
      "AutoML progress: |████████████████████████████████████████████████████████| 100%\n"
     ]
    },
    {
     "data": {
      "text/html": [
       "<table>\n",
       "<thead>\n",
       "<tr><th>model_id                                           </th><th style=\"text-align: right;\">     auc</th><th style=\"text-align: right;\">  logloss</th><th style=\"text-align: right;\">  mean_per_class_error</th><th style=\"text-align: right;\">    rmse</th><th style=\"text-align: right;\">      mse</th></tr>\n",
       "</thead>\n",
       "<tbody>\n",
       "<tr><td>StackedEnsemble_AllModels_AutoML_20190226_122855   </td><td style=\"text-align: right;\">0.885387</td><td style=\"text-align: right;\"> 0.218676</td><td style=\"text-align: right;\">              0.246727</td><td style=\"text-align: right;\">0.247943</td><td style=\"text-align: right;\">0.0614756</td></tr>\n",
       "<tr><td>StackedEnsemble_BestOfFamily_AutoML_20190226_122855</td><td style=\"text-align: right;\">0.881965</td><td style=\"text-align: right;\"> 0.220265</td><td style=\"text-align: right;\">              0.252012</td><td style=\"text-align: right;\">0.249084</td><td style=\"text-align: right;\">0.0620427</td></tr>\n",
       "<tr><td>GBM_2_AutoML_20190226_122855                       </td><td style=\"text-align: right;\">0.872152</td><td style=\"text-align: right;\"> 0.228938</td><td style=\"text-align: right;\">              0.26975 </td><td style=\"text-align: right;\">0.256771</td><td style=\"text-align: right;\">0.0659312</td></tr>\n",
       "<tr><td>GBM_1_AutoML_20190226_122855                       </td><td style=\"text-align: right;\">0.87131 </td><td style=\"text-align: right;\"> 0.23075 </td><td style=\"text-align: right;\">              0.271458</td><td style=\"text-align: right;\">0.257624</td><td style=\"text-align: right;\">0.0663699</td></tr>\n",
       "<tr><td>GBM_3_AutoML_20190226_122855                       </td><td style=\"text-align: right;\">0.869851</td><td style=\"text-align: right;\"> 0.230723</td><td style=\"text-align: right;\">              0.261024</td><td style=\"text-align: right;\">0.258014</td><td style=\"text-align: right;\">0.0665711</td></tr>\n",
       "<tr><td>GLM_grid_1_AutoML_20190226_122855_model_1          </td><td style=\"text-align: right;\">0.859708</td><td style=\"text-align: right;\"> 0.232019</td><td style=\"text-align: right;\">              0.26577 </td><td style=\"text-align: right;\">0.257973</td><td style=\"text-align: right;\">0.0665502</td></tr>\n",
       "<tr><td>XRT_1_AutoML_20190226_122855                       </td><td style=\"text-align: right;\">0.804783</td><td style=\"text-align: right;\"> 0.279096</td><td style=\"text-align: right;\">              0.301113</td><td style=\"text-align: right;\">0.282568</td><td style=\"text-align: right;\">0.0798448</td></tr>\n",
       "<tr><td>DRF_1_AutoML_20190226_122855                       </td><td style=\"text-align: right;\">0.803282</td><td style=\"text-align: right;\"> 0.27881 </td><td style=\"text-align: right;\">              0.307709</td><td style=\"text-align: right;\">0.282432</td><td style=\"text-align: right;\">0.0797678</td></tr>\n",
       "</tbody>\n",
       "</table>"
      ]
     },
     "metadata": {},
     "output_type": "display_data"
    },
    {
     "data": {
      "text/plain": []
     },
     "execution_count": 24,
     "metadata": {},
     "output_type": "execute_result"
    }
   ],
   "source": [
    "# Run AutoML for 20 base models (limited to 1 hour max runtime by default)\n",
    "aml_atp = h2o.automl.H2OAutoML(\n",
    "#                            max_runtime_secs=300,\n",
    "#                            max_models=100,\n",
    "                           stopping_metric='AUC',\n",
    "                           sort_metric='AUC',\n",
    "                           balance_classes=False,\n",
    "                           seed=183\n",
    "                          )\n",
    "\n",
    "aml_atp.train(x=feats, y='target', training_frame=df_train_h2o)\n",
    "\n",
    "# View the AutoML Leaderboard\n",
    "lb = aml_atp.leaderboard\n",
    "lb.head()  "
   ]
  },
  {
   "cell_type": "code",
   "execution_count": 69,
   "metadata": {},
   "outputs": [
    {
     "name": "stdout",
     "output_type": "stream",
     "text": [
      "stackedensemble prediction progress: |████████████████████████████████████| 100%\n"
     ]
    }
   ],
   "source": [
    "test_preds = aml_atp.predict(df_test_h2o)['p1'].as_data_frame()"
   ]
  },
  {
   "cell_type": "code",
   "execution_count": 70,
   "metadata": {},
   "outputs": [
    {
     "data": {
      "text/plain": [
       "(200000, 1)"
      ]
     },
     "execution_count": 70,
     "metadata": {},
     "output_type": "execute_result"
    }
   ],
   "source": [
    "test_preds.shape"
   ]
  },
  {
   "cell_type": "code",
   "execution_count": 71,
   "metadata": {},
   "outputs": [
    {
     "data": {
      "text/plain": [
       "(200000, 201)"
      ]
     },
     "execution_count": 71,
     "metadata": {},
     "output_type": "execute_result"
    }
   ],
   "source": [
    "test_df.shape"
   ]
  },
  {
   "cell_type": "code",
   "execution_count": 74,
   "metadata": {},
   "outputs": [
    {
     "name": "stdout",
     "output_type": "stream",
     "text": [
      "Saving submission file\n"
     ]
    }
   ],
   "source": [
    "test_ids = test_df.ID_code.values\n",
    "print(\"Saving submission file\")\n",
    "sample = pd.read_csv('../data/sample_submission.csv')\n",
    "sample.target = test_preds.astype(float)\n",
    "sample.ID_code = test_ids\n",
    "sample.to_csv('../submissions/submission_{}_{}.csv'.format(model_name,str(0.885387)), index=False)\n",
    "\n",
    "\n",
    "\n"
   ]
  },
  {
   "cell_type": "code",
   "execution_count": 77,
   "metadata": {},
   "outputs": [
    {
     "data": {
      "text/plain": [
       "0.09229926349031733"
      ]
     },
     "execution_count": 77,
     "metadata": {},
     "output_type": "execute_result"
    }
   ],
   "source": [
    "sample.target.mean()"
   ]
  },
  {
   "cell_type": "code",
   "execution_count": 43,
   "metadata": {},
   "outputs": [
    {
     "name": "stdout",
     "output_type": "stream",
     "text": [
      "Parse progress: |█████████████████████████████████████████████████████████| 100%\n"
     ]
    }
   ],
   "source": [
    "df_test_h2o = h2o.H2OFrame(test_df)"
   ]
  },
  {
   "cell_type": "code",
   "execution_count": 44,
   "metadata": {},
   "outputs": [
    {
     "data": {
      "text/plain": [
       "(200001, 201)"
      ]
     },
     "execution_count": 44,
     "metadata": {},
     "output_type": "execute_result"
    }
   ],
   "source": [
    "df_test_h2o.shape"
   ]
  },
  {
   "cell_type": "code",
   "execution_count": 42,
   "metadata": {},
   "outputs": [
    {
     "data": {
      "text/plain": [
       "(200000, 201)"
      ]
     },
     "execution_count": 42,
     "metadata": {},
     "output_type": "execute_result"
    }
   ],
   "source": [
    "test_df.shape"
   ]
  },
  {
   "cell_type": "code",
   "execution_count": 48,
   "metadata": {},
   "outputs": [
    {
     "data": {
      "text/html": [
       "<table>\n",
       "<thead>\n",
       "<tr><th>ID_code    </th><th style=\"text-align: right;\">  var_0</th><th style=\"text-align: right;\">  var_1</th><th style=\"text-align: right;\">  var_2</th><th style=\"text-align: right;\">  var_3</th><th style=\"text-align: right;\">  var_4</th><th style=\"text-align: right;\">   var_5</th><th style=\"text-align: right;\">  var_6</th><th style=\"text-align: right;\">  var_7</th><th style=\"text-align: right;\">  var_8</th><th style=\"text-align: right;\">  var_9</th><th style=\"text-align: right;\">  var_10</th><th style=\"text-align: right;\">  var_11</th><th style=\"text-align: right;\">  var_12</th><th style=\"text-align: right;\">  var_13</th><th style=\"text-align: right;\">  var_14</th><th style=\"text-align: right;\">  var_15</th><th style=\"text-align: right;\">  var_16</th><th style=\"text-align: right;\">  var_17</th><th style=\"text-align: right;\">  var_18</th><th style=\"text-align: right;\">  var_19</th><th style=\"text-align: right;\">  var_20</th><th style=\"text-align: right;\">  var_21</th><th style=\"text-align: right;\">  var_22</th><th style=\"text-align: right;\">  var_23</th><th style=\"text-align: right;\">  var_24</th><th style=\"text-align: right;\">  var_25</th><th style=\"text-align: right;\">  var_26</th><th style=\"text-align: right;\">  var_27</th><th style=\"text-align: right;\">  var_28</th><th style=\"text-align: right;\">  var_29</th><th style=\"text-align: right;\">  var_30</th><th style=\"text-align: right;\">  var_31</th><th style=\"text-align: right;\">  var_32</th><th style=\"text-align: right;\">  var_33</th><th style=\"text-align: right;\">  var_34</th><th style=\"text-align: right;\">  var_35</th><th style=\"text-align: right;\">  var_36</th><th style=\"text-align: right;\">  var_37</th><th style=\"text-align: right;\">  var_38</th><th style=\"text-align: right;\">  var_39</th><th style=\"text-align: right;\">  var_40</th><th style=\"text-align: right;\">  var_41</th><th style=\"text-align: right;\">  var_42</th><th style=\"text-align: right;\">  var_43</th><th style=\"text-align: right;\">  var_44</th><th style=\"text-align: right;\">  var_45</th><th style=\"text-align: right;\">  var_46</th><th style=\"text-align: right;\">  var_47</th><th style=\"text-align: right;\">  var_48</th><th style=\"text-align: right;\">  var_49</th><th style=\"text-align: right;\">  var_50</th><th style=\"text-align: right;\">  var_51</th><th style=\"text-align: right;\">  var_52</th><th style=\"text-align: right;\">  var_53</th><th style=\"text-align: right;\">  var_54</th><th style=\"text-align: right;\">  var_55</th><th style=\"text-align: right;\">  var_56</th><th style=\"text-align: right;\">  var_57</th><th style=\"text-align: right;\">  var_58</th><th style=\"text-align: right;\">  var_59</th><th style=\"text-align: right;\">  var_60</th><th style=\"text-align: right;\">  var_61</th><th style=\"text-align: right;\">  var_62</th><th style=\"text-align: right;\">  var_63</th><th style=\"text-align: right;\">  var_64</th><th style=\"text-align: right;\">  var_65</th><th style=\"text-align: right;\">  var_66</th><th style=\"text-align: right;\">  var_67</th><th style=\"text-align: right;\">  var_68</th><th style=\"text-align: right;\">  var_69</th><th style=\"text-align: right;\">  var_70</th><th style=\"text-align: right;\">  var_71</th><th style=\"text-align: right;\">  var_72</th><th style=\"text-align: right;\">  var_73</th><th style=\"text-align: right;\">  var_74</th><th style=\"text-align: right;\">  var_75</th><th style=\"text-align: right;\">  var_76</th><th style=\"text-align: right;\">  var_77</th><th style=\"text-align: right;\">  var_78</th><th style=\"text-align: right;\">  var_79</th><th style=\"text-align: right;\">  var_80</th><th style=\"text-align: right;\">  var_81</th><th style=\"text-align: right;\">  var_82</th><th style=\"text-align: right;\">  var_83</th><th style=\"text-align: right;\">  var_84</th><th style=\"text-align: right;\">  var_85</th><th style=\"text-align: right;\">  var_86</th><th style=\"text-align: right;\">  var_87</th><th style=\"text-align: right;\">  var_88</th><th style=\"text-align: right;\">  var_89</th><th style=\"text-align: right;\">  var_90</th><th style=\"text-align: right;\">  var_91</th><th style=\"text-align: right;\">  var_92</th><th style=\"text-align: right;\">  var_93</th><th style=\"text-align: right;\">  var_94</th><th style=\"text-align: right;\">  var_95</th><th style=\"text-align: right;\">  var_96</th><th style=\"text-align: right;\">  var_97</th><th style=\"text-align: right;\">  var_98</th><th style=\"text-align: right;\">  var_99</th><th style=\"text-align: right;\">  var_100</th><th style=\"text-align: right;\">  var_101</th><th style=\"text-align: right;\">  var_102</th><th style=\"text-align: right;\">  var_103</th><th style=\"text-align: right;\">  var_104</th><th style=\"text-align: right;\">  var_105</th><th style=\"text-align: right;\">  var_106</th><th style=\"text-align: right;\">  var_107</th><th style=\"text-align: right;\">  var_108</th><th style=\"text-align: right;\">  var_109</th><th style=\"text-align: right;\">  var_110</th><th style=\"text-align: right;\">  var_111</th><th style=\"text-align: right;\">  var_112</th><th style=\"text-align: right;\">  var_113</th><th style=\"text-align: right;\">  var_114</th><th style=\"text-align: right;\">  var_115</th><th style=\"text-align: right;\">  var_116</th><th style=\"text-align: right;\">  var_117</th><th style=\"text-align: right;\">  var_118</th><th style=\"text-align: right;\">  var_119</th><th style=\"text-align: right;\">  var_120</th><th style=\"text-align: right;\">  var_121</th><th style=\"text-align: right;\">  var_122</th><th style=\"text-align: right;\">  var_123</th><th style=\"text-align: right;\">  var_124</th><th style=\"text-align: right;\">  var_125</th><th style=\"text-align: right;\">  var_126</th><th style=\"text-align: right;\">  var_127</th><th style=\"text-align: right;\">  var_128</th><th style=\"text-align: right;\">  var_129</th><th style=\"text-align: right;\">  var_130</th><th style=\"text-align: right;\">  var_131</th><th style=\"text-align: right;\">  var_132</th><th style=\"text-align: right;\">  var_133</th><th style=\"text-align: right;\">  var_134</th><th style=\"text-align: right;\">  var_135</th><th style=\"text-align: right;\">  var_136</th><th style=\"text-align: right;\">  var_137</th><th style=\"text-align: right;\">  var_138</th><th style=\"text-align: right;\">  var_139</th><th style=\"text-align: right;\">  var_140</th><th style=\"text-align: right;\">  var_141</th><th style=\"text-align: right;\">  var_142</th><th style=\"text-align: right;\">  var_143</th><th style=\"text-align: right;\">  var_144</th><th style=\"text-align: right;\">  var_145</th><th style=\"text-align: right;\">  var_146</th><th style=\"text-align: right;\">  var_147</th><th style=\"text-align: right;\">  var_148</th><th style=\"text-align: right;\">  var_149</th><th style=\"text-align: right;\">  var_150</th><th style=\"text-align: right;\">  var_151</th><th style=\"text-align: right;\">  var_152</th><th style=\"text-align: right;\">  var_153</th><th style=\"text-align: right;\">  var_154</th><th style=\"text-align: right;\">  var_155</th><th style=\"text-align: right;\">  var_156</th><th style=\"text-align: right;\">  var_157</th><th style=\"text-align: right;\">  var_158</th><th style=\"text-align: right;\">  var_159</th><th style=\"text-align: right;\">  var_160</th><th style=\"text-align: right;\">  var_161</th><th style=\"text-align: right;\">  var_162</th><th style=\"text-align: right;\">  var_163</th><th style=\"text-align: right;\">  var_164</th><th style=\"text-align: right;\">  var_165</th><th style=\"text-align: right;\">  var_166</th><th style=\"text-align: right;\">  var_167</th><th style=\"text-align: right;\">  var_168</th><th style=\"text-align: right;\">  var_169</th><th style=\"text-align: right;\">  var_170</th><th style=\"text-align: right;\">  var_171</th><th style=\"text-align: right;\">  var_172</th><th style=\"text-align: right;\">  var_173</th><th style=\"text-align: right;\">  var_174</th><th style=\"text-align: right;\">  var_175</th><th style=\"text-align: right;\">  var_176</th><th style=\"text-align: right;\">  var_177</th><th style=\"text-align: right;\">  var_178</th><th style=\"text-align: right;\">  var_179</th><th style=\"text-align: right;\">  var_180</th><th style=\"text-align: right;\">  var_181</th><th style=\"text-align: right;\">  var_182</th><th style=\"text-align: right;\">  var_183</th><th style=\"text-align: right;\">  var_184</th><th style=\"text-align: right;\">  var_185</th><th style=\"text-align: right;\">  var_186</th><th style=\"text-align: right;\">  var_187</th><th style=\"text-align: right;\">  var_188</th><th style=\"text-align: right;\">  var_189</th><th style=\"text-align: right;\">  var_190</th><th style=\"text-align: right;\">  var_191</th><th style=\"text-align: right;\">  var_192</th><th style=\"text-align: right;\">  var_193</th><th style=\"text-align: right;\">  var_194</th><th style=\"text-align: right;\">  var_195</th><th style=\"text-align: right;\">  var_196</th><th style=\"text-align: right;\">  var_197</th><th style=\"text-align: right;\">  var_198</th></tr>\n",
       "</thead>\n",
       "<tbody>\n",
       "<tr><td>test_199990</td><td style=\"text-align: right;\"> 5.5416</td><td style=\"text-align: right;\"> 1.734 </td><td style=\"text-align: right;\"> 9.6938</td><td style=\"text-align: right;\"> 5.0126</td><td style=\"text-align: right;\">11.3049</td><td style=\"text-align: right;\">-15.9906</td><td style=\"text-align: right;\"> 5.0937</td><td style=\"text-align: right;\">17.796 </td><td style=\"text-align: right;\">-3.105 </td><td style=\"text-align: right;\"> 6.9197</td><td style=\"text-align: right;\">  8.2548</td><td style=\"text-align: right;\"> -2.8756</td><td style=\"text-align: right;\"> 14.1546</td><td style=\"text-align: right;\"> 14.7619</td><td style=\"text-align: right;\"> 11.4564</td><td style=\"text-align: right;\"> 15.0365</td><td style=\"text-align: right;\"> 13.8591</td><td style=\"text-align: right;\"> -6.5502</td><td style=\"text-align: right;\"> 20.9181</td><td style=\"text-align: right;\">  5.0439</td><td style=\"text-align: right;\"> 15.0863</td><td style=\"text-align: right;\"> 30.4997</td><td style=\"text-align: right;\">  7.7843</td><td style=\"text-align: right;\">  3.1669</td><td style=\"text-align: right;\"> 11.9212</td><td style=\"text-align: right;\"> 14.0191</td><td style=\"text-align: right;\"> -1.7656</td><td style=\"text-align: right;\">  0.7349</td><td style=\"text-align: right;\">  5.2116</td><td style=\"text-align: right;\">  8.6242</td><td style=\"text-align: right;\">-21.4105</td><td style=\"text-align: right;\"> 10.7667</td><td style=\"text-align: right;\"> -4.493 </td><td style=\"text-align: right;\"> 15.6523</td><td style=\"text-align: right;\"> 12.3655</td><td style=\"text-align: right;\">  0.7796</td><td style=\"text-align: right;\">  3.5171</td><td style=\"text-align: right;\">  4.2829</td><td style=\"text-align: right;\"> 15.8226</td><td style=\"text-align: right;\"> -1.6903</td><td style=\"text-align: right;\">  0.1326</td><td style=\"text-align: right;\"> 14.2905</td><td style=\"text-align: right;\"> 10.8666</td><td style=\"text-align: right;\"> 10.8967</td><td style=\"text-align: right;\"> 11.1282</td><td style=\"text-align: right;\">-15.3843</td><td style=\"text-align: right;\"> 11.2523</td><td style=\"text-align: right;\"> -0.7021</td><td style=\"text-align: right;\"> 40.3556</td><td style=\"text-align: right;\"> 13.8107</td><td style=\"text-align: right;\"> 12.1475</td><td style=\"text-align: right;\"> 25.1136</td><td style=\"text-align: right;\"> -6.0759</td><td style=\"text-align: right;\">  6.6962</td><td style=\"text-align: right;\"> -4.4275</td><td style=\"text-align: right;\">  5.9248</td><td style=\"text-align: right;\"> 12.4274</td><td style=\"text-align: right;\">  5.3593</td><td style=\"text-align: right;\"> -1.0296</td><td style=\"text-align: right;\">  8.8086</td><td style=\"text-align: right;\"> 16.5595</td><td style=\"text-align: right;\">-24.3924</td><td style=\"text-align: right;\"> -0.1339</td><td style=\"text-align: right;\">  9.8999</td><td style=\"text-align: right;\">  6.2393</td><td style=\"text-align: right;\">  8.0134</td><td style=\"text-align: right;\">  6.2466</td><td style=\"text-align: right;\"> -5.49  </td><td style=\"text-align: right;\">  5.016 </td><td style=\"text-align: right;\"> -2.2404</td><td style=\"text-align: right;\">  6.5521</td><td style=\"text-align: right;\">  0.3543</td><td style=\"text-align: right;\"> -2.4493</td><td style=\"text-align: right;\"> 28.4266</td><td style=\"text-align: right;\">  2.9535</td><td style=\"text-align: right;\">  7.262 </td><td style=\"text-align: right;\"> 12.5272</td><td style=\"text-align: right;\"> 16.144 </td><td style=\"text-align: right;\">  6.8229</td><td style=\"text-align: right;\"> 16.0341</td><td style=\"text-align: right;\"> 15.7816</td><td style=\"text-align: right;\"> 12.7976</td><td style=\"text-align: right;\">  1.1177</td><td style=\"text-align: right;\"> 10.4361</td><td style=\"text-align: right;\"> -0.0018</td><td style=\"text-align: right;\"> 12.521 </td><td style=\"text-align: right;\">  6.95  </td><td style=\"text-align: right;\"> 23.6482</td><td style=\"text-align: right;\">  7.1241</td><td style=\"text-align: right;\">  5.1609</td><td style=\"text-align: right;\">-21.9156</td><td style=\"text-align: right;\">  6.9884</td><td style=\"text-align: right;\">  9.8085</td><td style=\"text-align: right;\"> 10.4827</td><td style=\"text-align: right;\"> 11.1193</td><td style=\"text-align: right;\"> -0.5496</td><td style=\"text-align: right;\"> 19.8106</td><td style=\"text-align: right;\"> 29.2678</td><td style=\"text-align: right;\">  1.6507</td><td style=\"text-align: right;\"> -1.8869</td><td style=\"text-align: right;\">  -6.0659</td><td style=\"text-align: right;\">  17.8818</td><td style=\"text-align: right;\">  23.6784</td><td style=\"text-align: right;\">   1.5022</td><td style=\"text-align: right;\">   9.1935</td><td style=\"text-align: right;\">   4.5686</td><td style=\"text-align: right;\">   7.4722</td><td style=\"text-align: right;\">  22.1987</td><td style=\"text-align: right;\">  14.2272</td><td style=\"text-align: right;\">  23.883 </td><td style=\"text-align: right;\">   8.7698</td><td style=\"text-align: right;\">   5.7006</td><td style=\"text-align: right;\">   2.3303</td><td style=\"text-align: right;\">   6.5322</td><td style=\"text-align: right;\">   3.1956</td><td style=\"text-align: right;\">   0.6683</td><td style=\"text-align: right;\">   3.7992</td><td style=\"text-align: right;\">  22.1745</td><td style=\"text-align: right;\">   1.8399</td><td style=\"text-align: right;\">   1.8231</td><td style=\"text-align: right;\">  14.4718</td><td style=\"text-align: right;\">   9.5019</td><td style=\"text-align: right;\">  -5.4746</td><td style=\"text-align: right;\">  13.0737</td><td style=\"text-align: right;\">  -1.2591</td><td style=\"text-align: right;\">  12.4395</td><td style=\"text-align: right;\">  12.2605</td><td style=\"text-align: right;\">   3.4311</td><td style=\"text-align: right;\">  -2.8784</td><td style=\"text-align: right;\">  15.5806</td><td style=\"text-align: right;\">  13.2464</td><td style=\"text-align: right;\">   0.8203</td><td style=\"text-align: right;\">  10.0867</td><td style=\"text-align: right;\">   7.0273</td><td style=\"text-align: right;\">  -2.9489</td><td style=\"text-align: right;\">   6.855 </td><td style=\"text-align: right;\">  27.5006</td><td style=\"text-align: right;\">   6.4966</td><td style=\"text-align: right;\">  -4.945 </td><td style=\"text-align: right;\">   7.9073</td><td style=\"text-align: right;\">   5.7229</td><td style=\"text-align: right;\">   2.329 </td><td style=\"text-align: right;\">  11.9754</td><td style=\"text-align: right;\">   7.8323</td><td style=\"text-align: right;\">   9.5304</td><td style=\"text-align: right;\">   2.1782</td><td style=\"text-align: right;\">  10.8261</td><td style=\"text-align: right;\">  -1.2333</td><td style=\"text-align: right;\">   4.0181</td><td style=\"text-align: right;\"> -18.9335</td><td style=\"text-align: right;\">  16.3227</td><td style=\"text-align: right;\">  15.2164</td><td style=\"text-align: right;\">   9.6197</td><td style=\"text-align: right;\">  18.9541</td><td style=\"text-align: right;\">   0.3094</td><td style=\"text-align: right;\">   2.3146</td><td style=\"text-align: right;\">  12.8678</td><td style=\"text-align: right;\"> -10.2213</td><td style=\"text-align: right;\">  16.1873</td><td style=\"text-align: right;\">  14.2569</td><td style=\"text-align: right;\">  13.9966</td><td style=\"text-align: right;\">   5.4965</td><td style=\"text-align: right;\">   5.3224</td><td style=\"text-align: right;\">   4.8996</td><td style=\"text-align: right;\">   3.7209</td><td style=\"text-align: right;\">  14.2065</td><td style=\"text-align: right;\">   3.1629</td><td style=\"text-align: right;\"> -15.7246</td><td style=\"text-align: right;\">   4.3909</td><td style=\"text-align: right;\">   5.6583</td><td style=\"text-align: right;\">  -9.2583</td><td style=\"text-align: right;\">   7.9383</td><td style=\"text-align: right;\">  11.477 </td><td style=\"text-align: right;\">  -9.1503</td><td style=\"text-align: right;\">  12.6929</td><td style=\"text-align: right;\">   8.7636</td><td style=\"text-align: right;\">  -3.8056</td><td style=\"text-align: right;\">   8.1242</td><td style=\"text-align: right;\">  12.447 </td><td style=\"text-align: right;\">   0.495 </td><td style=\"text-align: right;\">  -0.6494</td><td style=\"text-align: right;\">   7.734 </td><td style=\"text-align: right;\">  13.9948</td><td style=\"text-align: right;\">   5.1769</td><td style=\"text-align: right;\">  -4.0009</td><td style=\"text-align: right;\">  -8.5752</td><td style=\"text-align: right;\">  11.4089</td><td style=\"text-align: right;\"> -11.8738</td><td style=\"text-align: right;\">  16.9443</td><td style=\"text-align: right;\">   0.5255</td><td style=\"text-align: right;\">   1.1663</td><td style=\"text-align: right;\">   5.4021</td><td style=\"text-align: right;\">   1.4266</td><td style=\"text-align: right;\">   0.7912</td><td style=\"text-align: right;\">  20.6181</td><td style=\"text-align: right;\">   0.5917</td><td style=\"text-align: right;\">  11.6931</td><td style=\"text-align: right;\">   9.6883</td><td style=\"text-align: right;\">  12.6723</td></tr>\n",
       "<tr><td>test_199991</td><td style=\"text-align: right;\"> 8.7935</td><td style=\"text-align: right;\">-4.0646</td><td style=\"text-align: right;\"> 9.948 </td><td style=\"text-align: right;\"> 8.6947</td><td style=\"text-align: right;\">11.0497</td><td style=\"text-align: right;\"> -0.5129</td><td style=\"text-align: right;\"> 5.641 </td><td style=\"text-align: right;\">21.5338</td><td style=\"text-align: right;\"> 5.6578</td><td style=\"text-align: right;\"> 5.3441</td><td style=\"text-align: right;\"> -7.2666</td><td style=\"text-align: right;\"> -4.5693</td><td style=\"text-align: right;\"> 14.2109</td><td style=\"text-align: right;\">  3.9747</td><td style=\"text-align: right;\">  5.9191</td><td style=\"text-align: right;\"> 14.2149</td><td style=\"text-align: right;\">  7.3641</td><td style=\"text-align: right;\">-10.9504</td><td style=\"text-align: right;\"> 15.1152</td><td style=\"text-align: right;\">  5.3521</td><td style=\"text-align: right;\"> 17.5164</td><td style=\"text-align: right;\">  0.4992</td><td style=\"text-align: right;\">  6.2773</td><td style=\"text-align: right;\">  2.9737</td><td style=\"text-align: right;\"> 12.7908</td><td style=\"text-align: right;\"> 14.428 </td><td style=\"text-align: right;\"> -4.8483</td><td style=\"text-align: right;\"> -1.4386</td><td style=\"text-align: right;\">  6.7189</td><td style=\"text-align: right;\">  5.8642</td><td style=\"text-align: right;\">-12.2366</td><td style=\"text-align: right;\">  9.0299</td><td style=\"text-align: right;\">  3.894 </td><td style=\"text-align: right;\"> 15.2421</td><td style=\"text-align: right;\"> 11.5398</td><td style=\"text-align: right;\">  3.6696</td><td style=\"text-align: right;\"> -0.2825</td><td style=\"text-align: right;\">  8.373 </td><td style=\"text-align: right;\"> 13.9044</td><td style=\"text-align: right;\">  0.2526</td><td style=\"text-align: right;\">  0.1411</td><td style=\"text-align: right;\"> 15.5557</td><td style=\"text-align: right;\"> 11.3582</td><td style=\"text-align: right;\"> 11.5342</td><td style=\"text-align: right;\">  5.3382</td><td style=\"text-align: right;\">-21.5913</td><td style=\"text-align: right;\"> 16.1228</td><td style=\"text-align: right;\">-11.2815</td><td style=\"text-align: right;\">  9.1485</td><td style=\"text-align: right;\"> 27.2697</td><td style=\"text-align: right;\"> 13.0205</td><td style=\"text-align: right;\"> 12.1711</td><td style=\"text-align: right;\"> -8.6204</td><td style=\"text-align: right;\">  5.2903</td><td style=\"text-align: right;\"> -0.1652</td><td style=\"text-align: right;\"> 20.8653</td><td style=\"text-align: right;\"> 15.4474</td><td style=\"text-align: right;\">  7.1057</td><td style=\"text-align: right;\">  1.6742</td><td style=\"text-align: right;\">  8.5306</td><td style=\"text-align: right;\">  7.4351</td><td style=\"text-align: right;\">  1.4279</td><td style=\"text-align: right;\">  1.8538</td><td style=\"text-align: right;\">  4.4484</td><td style=\"text-align: right;\">  5.6925</td><td style=\"text-align: right;\"> -2.7996</td><td style=\"text-align: right;\">  4.0526</td><td style=\"text-align: right;\">  3.232 </td><td style=\"text-align: right;\">  5.0262</td><td style=\"text-align: right;\">  0.0389</td><td style=\"text-align: right;\"> 27.6938</td><td style=\"text-align: right;\">  1.0398</td><td style=\"text-align: right;\"> -1.1977</td><td style=\"text-align: right;\"> 18.566 </td><td style=\"text-align: right;\">  7.5126</td><td style=\"text-align: right;\">  8.3362</td><td style=\"text-align: right;\">  8.7411</td><td style=\"text-align: right;\"> 20.466 </td><td style=\"text-align: right;\">  3.9469</td><td style=\"text-align: right;\"> 14.5636</td><td style=\"text-align: right;\"> 17.2183</td><td style=\"text-align: right;\"> 16.6168</td><td style=\"text-align: right;\">  2.7772</td><td style=\"text-align: right;\"> -2.7028</td><td style=\"text-align: right;\">  1.9433</td><td style=\"text-align: right;\"> 23.6108</td><td style=\"text-align: right;\"> -1.2721</td><td style=\"text-align: right;\">  5.2517</td><td style=\"text-align: right;\">  9.113 </td><td style=\"text-align: right;\">  6.6544</td><td style=\"text-align: right;\"> -1.1853</td><td style=\"text-align: right;\">  7.0726</td><td style=\"text-align: right;\"> 11.1609</td><td style=\"text-align: right;\"> 10.8538</td><td style=\"text-align: right;\"> 13.0827</td><td style=\"text-align: right;\">  0.2404</td><td style=\"text-align: right;\"> 15.6519</td><td style=\"text-align: right;\">  0.8124</td><td style=\"text-align: right;\">  1.8064</td><td style=\"text-align: right;\"> -3.0838</td><td style=\"text-align: right;\">  -4.1264</td><td style=\"text-align: right;\">  21.941 </td><td style=\"text-align: right;\">  31.1745</td><td style=\"text-align: right;\">   1.616 </td><td style=\"text-align: right;\">  12.8227</td><td style=\"text-align: right;\">   3.9001</td><td style=\"text-align: right;\">  13.3268</td><td style=\"text-align: right;\">  26.1281</td><td style=\"text-align: right;\">  14.2103</td><td style=\"text-align: right;\">  15.4257</td><td style=\"text-align: right;\">   9.9754</td><td style=\"text-align: right;\">   6.3793</td><td style=\"text-align: right;\">   1.527 </td><td style=\"text-align: right;\">   2.1524</td><td style=\"text-align: right;\">   3.1832</td><td style=\"text-align: right;\">   0.0462</td><td style=\"text-align: right;\">   2.82  </td><td style=\"text-align: right;\">  16.487 </td><td style=\"text-align: right;\">  -9.4411</td><td style=\"text-align: right;\">  -2.5926</td><td style=\"text-align: right;\">  39.8529</td><td style=\"text-align: right;\">   9.6855</td><td style=\"text-align: right;\">   5.0041</td><td style=\"text-align: right;\">  20.0428</td><td style=\"text-align: right;\">   2.4075</td><td style=\"text-align: right;\">  12.4137</td><td style=\"text-align: right;\">  13.8758</td><td style=\"text-align: right;\">  -1.1914</td><td style=\"text-align: right;\">   5.0234</td><td style=\"text-align: right;\">  15.0224</td><td style=\"text-align: right;\">  11.4531</td><td style=\"text-align: right;\">   0.9663</td><td style=\"text-align: right;\">   8.6081</td><td style=\"text-align: right;\">   6.8846</td><td style=\"text-align: right;\">   0.0246</td><td style=\"text-align: right;\">   2.0914</td><td style=\"text-align: right;\">  16.4952</td><td style=\"text-align: right;\">  26.8635</td><td style=\"text-align: right;\">   6.4794</td><td style=\"text-align: right;\">   8.9114</td><td style=\"text-align: right;\">   5.3018</td><td style=\"text-align: right;\">  11.4657</td><td style=\"text-align: right;\">   6.1572</td><td style=\"text-align: right;\">  13.3818</td><td style=\"text-align: right;\">   9.045 </td><td style=\"text-align: right;\">   5.0991</td><td style=\"text-align: right;\">  10.1024</td><td style=\"text-align: right;\">  -3.2204</td><td style=\"text-align: right;\">   3.9252</td><td style=\"text-align: right;\">  11.0521</td><td style=\"text-align: right;\">  17.3136</td><td style=\"text-align: right;\">   7.829 </td><td style=\"text-align: right;\">   3.0219</td><td style=\"text-align: right;\">  15.7422</td><td style=\"text-align: right;\">  10.5028</td><td style=\"text-align: right;\"> -10.0051</td><td style=\"text-align: right;\">  12.9669</td><td style=\"text-align: right;\">   1.953 </td><td style=\"text-align: right;\">  14.6254</td><td style=\"text-align: right;\">  11.3104</td><td style=\"text-align: right;\">   6.1769</td><td style=\"text-align: right;\">   6.1352</td><td style=\"text-align: right;\">   3.8193</td><td style=\"text-align: right;\">   7.2028</td><td style=\"text-align: right;\">  -0.3121</td><td style=\"text-align: right;\">  20.779 </td><td style=\"text-align: right;\">   3.2877</td><td style=\"text-align: right;\">  -3.2945</td><td style=\"text-align: right;\">   3.0981</td><td style=\"text-align: right;\">   5.9178</td><td style=\"text-align: right;\">  -3.6538</td><td style=\"text-align: right;\">   3.9914</td><td style=\"text-align: right;\">  21.7634</td><td style=\"text-align: right;\">   3.2564</td><td style=\"text-align: right;\">  15.1332</td><td style=\"text-align: right;\">  12.124 </td><td style=\"text-align: right;\">  -3.4988</td><td style=\"text-align: right;\">  11.1585</td><td style=\"text-align: right;\">  -6.1161</td><td style=\"text-align: right;\">   2.0165</td><td style=\"text-align: right;\">  -0.3919</td><td style=\"text-align: right;\">   9.2301</td><td style=\"text-align: right;\">   1.1303</td><td style=\"text-align: right;\">   4.684 </td><td style=\"text-align: right;\">  10.1821</td><td style=\"text-align: right;\">  -8.3743</td><td style=\"text-align: right;\">  15.5154</td><td style=\"text-align: right;\">   0.9733</td><td style=\"text-align: right;\">  12.1423</td><td style=\"text-align: right;\">   1.2044</td><td style=\"text-align: right;\">  -4.7798</td><td style=\"text-align: right;\">   7.4542</td><td style=\"text-align: right;\">   4.8159</td><td style=\"text-align: right;\">   8.6821</td><td style=\"text-align: right;\">  22.1764</td><td style=\"text-align: right;\">   0.0088</td><td style=\"text-align: right;\">  -1.2475</td><td style=\"text-align: right;\">   8.6422</td><td style=\"text-align: right;\">  13.7302</td></tr>\n",
       "<tr><td>test_199992</td><td style=\"text-align: right;\">16.4229</td><td style=\"text-align: right;\">-5.0254</td><td style=\"text-align: right;\">13.1385</td><td style=\"text-align: right;\"> 5.4599</td><td style=\"text-align: right;\">13.1347</td><td style=\"text-align: right;\"> -2.6212</td><td style=\"text-align: right;\"> 4.7829</td><td style=\"text-align: right;\">14.7163</td><td style=\"text-align: right;\"> 0.0779</td><td style=\"text-align: right;\"> 8.9048</td><td style=\"text-align: right;\">  0.1536</td><td style=\"text-align: right;\">  0.9476</td><td style=\"text-align: right;\"> 14.0324</td><td style=\"text-align: right;\"> 10.0267</td><td style=\"text-align: right;\">  8.8134</td><td style=\"text-align: right;\"> 14.7195</td><td style=\"text-align: right;\"> 10.1845</td><td style=\"text-align: right;\">  2.6007</td><td style=\"text-align: right;\">  5.2328</td><td style=\"text-align: right;\">  8.762 </td><td style=\"text-align: right;\"> 16.8245</td><td style=\"text-align: right;\"> 18.4442</td><td style=\"text-align: right;\">  5.233 </td><td style=\"text-align: right;\">  2.8029</td><td style=\"text-align: right;\">  8.2215</td><td style=\"text-align: right;\"> 13.8847</td><td style=\"text-align: right;\"> -3.3029</td><td style=\"text-align: right;\"> -0.2763</td><td style=\"text-align: right;\">  6.1896</td><td style=\"text-align: right;\">  9.4339</td><td style=\"text-align: right;\">-22.4975</td><td style=\"text-align: right;\"> 10.3642</td><td style=\"text-align: right;\"> -0.4572</td><td style=\"text-align: right;\"> 22.8299</td><td style=\"text-align: right;\"> 11.3409</td><td style=\"text-align: right;\"> 13.9313</td><td style=\"text-align: right;\"> -3.5328</td><td style=\"text-align: right;\">  5.4533</td><td style=\"text-align: right;\"> 17.2898</td><td style=\"text-align: right;\"> -0.1468</td><td style=\"text-align: right;\">-18.4   </td><td style=\"text-align: right;\"> 17.5628</td><td style=\"text-align: right;\"> 10.088 </td><td style=\"text-align: right;\"> 11.6201</td><td style=\"text-align: right;\"> 10.5967</td><td style=\"text-align: right;\">  1.6141</td><td style=\"text-align: right;\"> 10.993 </td><td style=\"text-align: right;\">-31.8026</td><td style=\"text-align: right;\"> 44.1865</td><td style=\"text-align: right;\"> 18.0925</td><td style=\"text-align: right;\"> 12.9557</td><td style=\"text-align: right;\"> 11.4461</td><td style=\"text-align: right;\"> -4.1449</td><td style=\"text-align: right;\">  5.7011</td><td style=\"text-align: right;\">  0.2673</td><td style=\"text-align: right;\"> 13.7252</td><td style=\"text-align: right;\"> 20.2541</td><td style=\"text-align: right;\">  5.3853</td><td style=\"text-align: right;\"> -0.6032</td><td style=\"text-align: right;\">  8.0922</td><td style=\"text-align: right;\"> 11.9117</td><td style=\"text-align: right;\"> 10.3484</td><td style=\"text-align: right;\">  0.2245</td><td style=\"text-align: right;\"> -1.4954</td><td style=\"text-align: right;\">  4.2733</td><td style=\"text-align: right;\">  0.2375</td><td style=\"text-align: right;\">  5.8737</td><td style=\"text-align: right;\">  6.3386</td><td style=\"text-align: right;\">  5.0198</td><td style=\"text-align: right;\"> -2.1043</td><td style=\"text-align: right;\"> 14.2975</td><td style=\"text-align: right;\">  0.4322</td><td style=\"text-align: right;\"> -6.1223</td><td style=\"text-align: right;\"> 11.3001</td><td style=\"text-align: right;\"> 20.9676</td><td style=\"text-align: right;\"> 23.3358</td><td style=\"text-align: right;\"> 13.6653</td><td style=\"text-align: right;\"> 26.2741</td><td style=\"text-align: right;\">  6.4668</td><td style=\"text-align: right;\"> 15.2914</td><td style=\"text-align: right;\">-13.6302</td><td style=\"text-align: right;\"> 16.1116</td><td style=\"text-align: right;\">  5.2994</td><td style=\"text-align: right;\">  7.8568</td><td style=\"text-align: right;\"> -8.2585</td><td style=\"text-align: right;\"> 20.0113</td><td style=\"text-align: right;\"> 11.8675</td><td style=\"text-align: right;\"> 19.6377</td><td style=\"text-align: right;\"> 10.5562</td><td style=\"text-align: right;\">  1.4264</td><td style=\"text-align: right;\">-21.0622</td><td style=\"text-align: right;\">  6.8938</td><td style=\"text-align: right;\"> 10.8711</td><td style=\"text-align: right;\"> 11.0584</td><td style=\"text-align: right;\">  7.6896</td><td style=\"text-align: right;\"> -0.6957</td><td style=\"text-align: right;\"> 11.7313</td><td style=\"text-align: right;\"> 34.5638</td><td style=\"text-align: right;\">  0.9767</td><td style=\"text-align: right;\"> -0.7239</td><td style=\"text-align: right;\">  -6.7706</td><td style=\"text-align: right;\">   9.7859</td><td style=\"text-align: right;\">  28.4052</td><td style=\"text-align: right;\">   1.6497</td><td style=\"text-align: right;\">   9.3651</td><td style=\"text-align: right;\">   5.0707</td><td style=\"text-align: right;\">   6.7407</td><td style=\"text-align: right;\">  15.4345</td><td style=\"text-align: right;\">  14.3678</td><td style=\"text-align: right;\">  16.0607</td><td style=\"text-align: right;\">  10.1585</td><td style=\"text-align: right;\">   8.4721</td><td style=\"text-align: right;\">   2.8314</td><td style=\"text-align: right;\">   9.4389</td><td style=\"text-align: right;\">   1.1499</td><td style=\"text-align: right;\">   3.4216</td><td style=\"text-align: right;\">   0.864 </td><td style=\"text-align: right;\">   2.6706</td><td style=\"text-align: right;\"> -10.0379</td><td style=\"text-align: right;\">  -2.3511</td><td style=\"text-align: right;\">  44.2086</td><td style=\"text-align: right;\">   9.1509</td><td style=\"text-align: right;\">   4.3934</td><td style=\"text-align: right;\">   4.79  </td><td style=\"text-align: right;\">   3.4052</td><td style=\"text-align: right;\">  12.8737</td><td style=\"text-align: right;\">  12.6553</td><td style=\"text-align: right;\">   6.2955</td><td style=\"text-align: right;\">   0.9217</td><td style=\"text-align: right;\">  16.754 </td><td style=\"text-align: right;\">  12.5128</td><td style=\"text-align: right;\">   0.0868</td><td style=\"text-align: right;\">  10.1294</td><td style=\"text-align: right;\">   7.4458</td><td style=\"text-align: right;\"> -10.481 </td><td style=\"text-align: right;\"> -11.4757</td><td style=\"text-align: right;\">  19.8691</td><td style=\"text-align: right;\">  39.2635</td><td style=\"text-align: right;\">  -1.0517</td><td style=\"text-align: right;\">  10.1638</td><td style=\"text-align: right;\">   6.4518</td><td style=\"text-align: right;\">   0.115 </td><td style=\"text-align: right;\">   5.7344</td><td style=\"text-align: right;\">  10.9908</td><td style=\"text-align: right;\">   7.5483</td><td style=\"text-align: right;\">  -3.9326</td><td style=\"text-align: right;\">   5.2916</td><td style=\"text-align: right;\"> -17.0351</td><td style=\"text-align: right;\">   3.9646</td><td style=\"text-align: right;\">  11.0646</td><td style=\"text-align: right;\">  12.3691</td><td style=\"text-align: right;\">  19.4424</td><td style=\"text-align: right;\">   6.7622</td><td style=\"text-align: right;\">  16.091 </td><td style=\"text-align: right;\">  14.4776</td><td style=\"text-align: right;\">   5.9135</td><td style=\"text-align: right;\">  14.5467</td><td style=\"text-align: right;\">  -7.3449</td><td style=\"text-align: right;\">   4.3118</td><td style=\"text-align: right;\">   4.6424</td><td style=\"text-align: right;\">  16.8042</td><td style=\"text-align: right;\">   5.3562</td><td style=\"text-align: right;\">   6.4139</td><td style=\"text-align: right;\">   6.6343</td><td style=\"text-align: right;\">   2.331 </td><td style=\"text-align: right;\">  16.6101</td><td style=\"text-align: right;\">   2.6643</td><td style=\"text-align: right;\">   6.7912</td><td style=\"text-align: right;\">   9.1838</td><td style=\"text-align: right;\">   6.1385</td><td style=\"text-align: right;\">   9.3033</td><td style=\"text-align: right;\">  -4.5231</td><td style=\"text-align: right;\">  37.7967</td><td style=\"text-align: right;\">   7.9421</td><td style=\"text-align: right;\">  14.3923</td><td style=\"text-align: right;\">  15.2954</td><td style=\"text-align: right;\">   4.3233</td><td style=\"text-align: right;\">  14.477 </td><td style=\"text-align: right;\">   7.0341</td><td style=\"text-align: right;\">   3.9715</td><td style=\"text-align: right;\">  -0.5686</td><td style=\"text-align: right;\">  10.2906</td><td style=\"text-align: right;\">  -6.653 </td><td style=\"text-align: right;\">   3.784 </td><td style=\"text-align: right;\">  11.967 </td><td style=\"text-align: right;\">   0.5656</td><td style=\"text-align: right;\">  13.312 </td><td style=\"text-align: right;\"> -13.1207</td><td style=\"text-align: right;\">  12.2435</td><td style=\"text-align: right;\">   0.2221</td><td style=\"text-align: right;\">   5.133 </td><td style=\"text-align: right;\">   4.374 </td><td style=\"text-align: right;\">   0.2961</td><td style=\"text-align: right;\">  11.8655</td><td style=\"text-align: right;\">  16.2761</td><td style=\"text-align: right;\">   0.0447</td><td style=\"text-align: right;\">  -6.0102</td><td style=\"text-align: right;\">  10.3218</td><td style=\"text-align: right;\">   8.2577</td></tr>\n",
       "<tr><td>test_199993</td><td style=\"text-align: right;\">14.6764</td><td style=\"text-align: right;\">-8.1066</td><td style=\"text-align: right;\"> 7.1167</td><td style=\"text-align: right;\"> 2.4138</td><td style=\"text-align: right;\">10.3845</td><td style=\"text-align: right;\">-11.9327</td><td style=\"text-align: right;\"> 4.7563</td><td style=\"text-align: right;\">16.0455</td><td style=\"text-align: right;\"> 0.451 </td><td style=\"text-align: right;\"> 8.7944</td><td style=\"text-align: right;\"> -3.9173</td><td style=\"text-align: right;\"> -6.5391</td><td style=\"text-align: right;\"> 14.184 </td><td style=\"text-align: right;\"> 12.4859</td><td style=\"text-align: right;\"> 11.6117</td><td style=\"text-align: right;\"> 14.3171</td><td style=\"text-align: right;\">  8.7637</td><td style=\"text-align: right;\">  3.0406</td><td style=\"text-align: right;\">  7.203 </td><td style=\"text-align: right;\">  3.9212</td><td style=\"text-align: right;\"> 14.2879</td><td style=\"text-align: right;\">  5.0927</td><td style=\"text-align: right;\">  8.2215</td><td style=\"text-align: right;\">  2.824 </td><td style=\"text-align: right;\"> 10.494 </td><td style=\"text-align: right;\"> 13.5207</td><td style=\"text-align: right;\"> -8.8797</td><td style=\"text-align: right;\"> -0.0327</td><td style=\"text-align: right;\">  4.8206</td><td style=\"text-align: right;\">  3.7615</td><td style=\"text-align: right;\">  0.8842</td><td style=\"text-align: right;\">  7.5475</td><td style=\"text-align: right;\">  1.4878</td><td style=\"text-align: right;\"> 15.4758</td><td style=\"text-align: right;\"> 11.2331</td><td style=\"text-align: right;\"> -2.8339</td><td style=\"text-align: right;\">  1.5236</td><td style=\"text-align: right;\">  7.4809</td><td style=\"text-align: right;\">  8.224 </td><td style=\"text-align: right;\"> -0.3935</td><td style=\"text-align: right;\"> -0.0408</td><td style=\"text-align: right;\"> 10.4346</td><td style=\"text-align: right;\"> 11.7438</td><td style=\"text-align: right;\"> 11.2241</td><td style=\"text-align: right;\">  7.5504</td><td style=\"text-align: right;\"> -2.2057</td><td style=\"text-align: right;\"> 14.6628</td><td style=\"text-align: right;\">  0.3455</td><td style=\"text-align: right;\"> 14.1002</td><td style=\"text-align: right;\"> 25.8961</td><td style=\"text-align: right;\"> 13.0586</td><td style=\"text-align: right;\"> 12.3107</td><td style=\"text-align: right;\"> -4.5285</td><td style=\"text-align: right;\">  5.2606</td><td style=\"text-align: right;\"> -1.6487</td><td style=\"text-align: right;\">  4.431 </td><td style=\"text-align: right;\"> 13.8982</td><td style=\"text-align: right;\">  6.1899</td><td style=\"text-align: right;\"> 11.6932</td><td style=\"text-align: right;\">  8.1573</td><td style=\"text-align: right;\">  6.4952</td><td style=\"text-align: right;\"> -2.1516</td><td style=\"text-align: right;\">  0.9917</td><td style=\"text-align: right;\">  7.0542</td><td style=\"text-align: right;\">  6.4252</td><td style=\"text-align: right;\">  0.185 </td><td style=\"text-align: right;\">  5.2323</td><td style=\"text-align: right;\">  9.0955</td><td style=\"text-align: right;\">  5.0079</td><td style=\"text-align: right;\"> -7.5099</td><td style=\"text-align: right;\"> 21.2623</td><td style=\"text-align: right;\">  0.8219</td><td style=\"text-align: right;\"> -3.4378</td><td style=\"text-align: right;\"> 23.677 </td><td style=\"text-align: right;\"> 14.4819</td><td style=\"text-align: right;\">  3.0792</td><td style=\"text-align: right;\">  7.312 </td><td style=\"text-align: right;\"> 21.5892</td><td style=\"text-align: right;\">  4.4884</td><td style=\"text-align: right;\"> 17.0566</td><td style=\"text-align: right;\"> -0.0614</td><td style=\"text-align: right;\"> 16.8361</td><td style=\"text-align: right;\">  9.3114</td><td style=\"text-align: right;\"> -9.9386</td><td style=\"text-align: right;\">-13.9102</td><td style=\"text-align: right;\"> 25.7293</td><td style=\"text-align: right;\">  2.9035</td><td style=\"text-align: right;\">  9.2097</td><td style=\"text-align: right;\">  5.0275</td><td style=\"text-align: right;\">  0.8415</td><td style=\"text-align: right;\">-18.5912</td><td style=\"text-align: right;\">  7.1695</td><td style=\"text-align: right;\">  8.5847</td><td style=\"text-align: right;\"> 10.9903</td><td style=\"text-align: right;\"> 10.2209</td><td style=\"text-align: right;\">  0.347 </td><td style=\"text-align: right;\"> 12.1064</td><td style=\"text-align: right;\">  1.6045</td><td style=\"text-align: right;\">  2.5605</td><td style=\"text-align: right;\"> -2.2526</td><td style=\"text-align: right;\">   7.8704</td><td style=\"text-align: right;\">   7.8797</td><td style=\"text-align: right;\">  25.8146</td><td style=\"text-align: right;\">   1.5433</td><td style=\"text-align: right;\">  10.9763</td><td style=\"text-align: right;\">   4.5544</td><td style=\"text-align: right;\">   9.8445</td><td style=\"text-align: right;\">   6.4871</td><td style=\"text-align: right;\">  14.3026</td><td style=\"text-align: right;\">  24.5891</td><td style=\"text-align: right;\">   8.8249</td><td style=\"text-align: right;\">   7.9327</td><td style=\"text-align: right;\">   5.1458</td><td style=\"text-align: right;\">  16.1681</td><td style=\"text-align: right;\">   2.1964</td><td style=\"text-align: right;\">   1.8897</td><td style=\"text-align: right;\">   4.2775</td><td style=\"text-align: right;\">  -5.2348</td><td style=\"text-align: right;\"> -10.9547</td><td style=\"text-align: right;\">   3.7724</td><td style=\"text-align: right;\">   4.7872</td><td style=\"text-align: right;\">  12.528 </td><td style=\"text-align: right;\">   3.3829</td><td style=\"text-align: right;\">   3.1407</td><td style=\"text-align: right;\">   0.7311</td><td style=\"text-align: right;\">  12.0853</td><td style=\"text-align: right;\">  13.7389</td><td style=\"text-align: right;\">  -0.4409</td><td style=\"text-align: right;\">   1.1428</td><td style=\"text-align: right;\">  20.3194</td><td style=\"text-align: right;\">  12.5439</td><td style=\"text-align: right;\">   0.796 </td><td style=\"text-align: right;\">   7.28  </td><td style=\"text-align: right;\">   6.9867</td><td style=\"text-align: right;\">   0.3569</td><td style=\"text-align: right;\">  -6.0601</td><td style=\"text-align: right;\">  33.8089</td><td style=\"text-align: right;\">  14.4737</td><td style=\"text-align: right;\">   6.244 </td><td style=\"text-align: right;\">   6.7573</td><td style=\"text-align: right;\">   5.6872</td><td style=\"text-align: right;\">  -3.2821</td><td style=\"text-align: right;\">  13.499 </td><td style=\"text-align: right;\">  10.7475</td><td style=\"text-align: right;\">   8.783 </td><td style=\"text-align: right;\">   3.7361</td><td style=\"text-align: right;\">   9.3125</td><td style=\"text-align: right;\">   4.3744</td><td style=\"text-align: right;\">   4.049 </td><td style=\"text-align: right;\">  -2.9895</td><td style=\"text-align: right;\">  15.335 </td><td style=\"text-align: right;\">  12.7271</td><td style=\"text-align: right;\">   2.6548</td><td style=\"text-align: right;\">  18.761 </td><td style=\"text-align: right;\">   1.4137</td><td style=\"text-align: right;\">   7.1311</td><td style=\"text-align: right;\">  12.6628</td><td style=\"text-align: right;\">  -2.7828</td><td style=\"text-align: right;\">  27.1292</td><td style=\"text-align: right;\">  16.4812</td><td style=\"text-align: right;\">  29.7107</td><td style=\"text-align: right;\">   5.4092</td><td style=\"text-align: right;\">   5.7543</td><td style=\"text-align: right;\">  10.1169</td><td style=\"text-align: right;\">  -5.9091</td><td style=\"text-align: right;\">  15.5819</td><td style=\"text-align: right;\">   3.299 </td><td style=\"text-align: right;\">  -7.9507</td><td style=\"text-align: right;\">  -1.8029</td><td style=\"text-align: right;\">   5.6008</td><td style=\"text-align: right;\">   3.5663</td><td style=\"text-align: right;\">  -0.9549</td><td style=\"text-align: right;\">  19.2635</td><td style=\"text-align: right;\">  -1.7153</td><td style=\"text-align: right;\">  20.7123</td><td style=\"text-align: right;\">  12.9913</td><td style=\"text-align: right;\">   1.4086</td><td style=\"text-align: right;\">  15.4677</td><td style=\"text-align: right;\">  -3.1972</td><td style=\"text-align: right;\">   3.3401</td><td style=\"text-align: right;\">  -6.0621</td><td style=\"text-align: right;\">   8.8245</td><td style=\"text-align: right;\"> -12.1243</td><td style=\"text-align: right;\">   1.7728</td><td style=\"text-align: right;\">  15.7449</td><td style=\"text-align: right;\">   0.3312</td><td style=\"text-align: right;\">  12.4182</td><td style=\"text-align: right;\"> -12.199 </td><td style=\"text-align: right;\">  12.6614</td><td style=\"text-align: right;\">   0.8436</td><td style=\"text-align: right;\">   5.0961</td><td style=\"text-align: right;\">   7.7472</td><td style=\"text-align: right;\">   2.8127</td><td style=\"text-align: right;\">   6.6012</td><td style=\"text-align: right;\">  15.3706</td><td style=\"text-align: right;\">  -0.4293</td><td style=\"text-align: right;\">   6.8485</td><td style=\"text-align: right;\">  10.427 </td><td style=\"text-align: right;\">  17.497 </td></tr>\n",
       "<tr><td>test_199994</td><td style=\"text-align: right;\"> 8.2964</td><td style=\"text-align: right;\">-2.3119</td><td style=\"text-align: right;\">11.2139</td><td style=\"text-align: right;\"> 9.1357</td><td style=\"text-align: right;\"> 8.5339</td><td style=\"text-align: right;\">  4.035 </td><td style=\"text-align: right;\"> 5.7   </td><td style=\"text-align: right;\">11.0102</td><td style=\"text-align: right;\"> 4.9089</td><td style=\"text-align: right;\"> 8.3779</td><td style=\"text-align: right;\">  2.6055</td><td style=\"text-align: right;\"> -4.632 </td><td style=\"text-align: right;\"> 14.1344</td><td style=\"text-align: right;\">  0.9657</td><td style=\"text-align: right;\">  7.3222</td><td style=\"text-align: right;\"> 14.1601</td><td style=\"text-align: right;\">  6.2507</td><td style=\"text-align: right;\"> -8.6914</td><td style=\"text-align: right;\">  3.1174</td><td style=\"text-align: right;\"> 11.7037</td><td style=\"text-align: right;\"> 25.2712</td><td style=\"text-align: right;\"> 32.638 </td><td style=\"text-align: right;\">  6.9919</td><td style=\"text-align: right;\">  3.5584</td><td style=\"text-align: right;\">  9.5775</td><td style=\"text-align: right;\"> 13.909 </td><td style=\"text-align: right;\"> -5.9469</td><td style=\"text-align: right;\">  0.1833</td><td style=\"text-align: right;\">  5.0596</td><td style=\"text-align: right;\">  0.9971</td><td style=\"text-align: right;\">-21.1192</td><td style=\"text-align: right;\">  8.302 </td><td style=\"text-align: right;\"> -5.4407</td><td style=\"text-align: right;\"> 16.9889</td><td style=\"text-align: right;\"> 11.299 </td><td style=\"text-align: right;\">  9.7056</td><td style=\"text-align: right;\">  3.4227</td><td style=\"text-align: right;\">  5.7477</td><td style=\"text-align: right;\">  5.9829</td><td style=\"text-align: right;\"> -4.8373</td><td style=\"text-align: right;\">-11.508 </td><td style=\"text-align: right;\"> 13.1366</td><td style=\"text-align: right;\"> 12.4236</td><td style=\"text-align: right;\"> 11.9456</td><td style=\"text-align: right;\">  9.8124</td><td style=\"text-align: right;\">-38.3994</td><td style=\"text-align: right;\"> 15.865 </td><td style=\"text-align: right;\">-19.5026</td><td style=\"text-align: right;\"> 18.9262</td><td style=\"text-align: right;\"> 21.0053</td><td style=\"text-align: right;\"> 12.7717</td><td style=\"text-align: right;\">  3.2298</td><td style=\"text-align: right;\">  2.6533</td><td style=\"text-align: right;\">  5.1255</td><td style=\"text-align: right;\">  5.1132</td><td style=\"text-align: right;\"> 18.9808</td><td style=\"text-align: right;\"> 15.3301</td><td style=\"text-align: right;\">  7.3424</td><td style=\"text-align: right;\">  2.8265</td><td style=\"text-align: right;\">  9.3821</td><td style=\"text-align: right;\">  6.7293</td><td style=\"text-align: right;\">-21.1874</td><td style=\"text-align: right;\">  3.5048</td><td style=\"text-align: right;\">  1.1871</td><td style=\"text-align: right;\">  4.7866</td><td style=\"text-align: right;\">  2.9384</td><td style=\"text-align: right;\">  4.9065</td><td style=\"text-align: right;\"> 13.1496</td><td style=\"text-align: right;\">  5.0164</td><td style=\"text-align: right;\"> -1.7113</td><td style=\"text-align: right;\"> 10.7241</td><td style=\"text-align: right;\">  0.3713</td><td style=\"text-align: right;\"> -3.6656</td><td style=\"text-align: right;\"> 22.7452</td><td style=\"text-align: right;\"> 19.0619</td><td style=\"text-align: right;\"> 10.1364</td><td style=\"text-align: right;\"> 12.0461</td><td style=\"text-align: right;\"> 14.1502</td><td style=\"text-align: right;\">  7.8542</td><td style=\"text-align: right;\"> 12.8278</td><td style=\"text-align: right;\"> -8.3867</td><td style=\"text-align: right;\"> 15.0927</td><td style=\"text-align: right;\">  3.1129</td><td style=\"text-align: right;\"> 15.8219</td><td style=\"text-align: right;\"> -3.4913</td><td style=\"text-align: right;\"> 12.1616</td><td style=\"text-align: right;\"> -0.3611</td><td style=\"text-align: right;\">  9.0385</td><td style=\"text-align: right;\"> 12.0808</td><td style=\"text-align: right;\">  5.224 </td><td style=\"text-align: right;\">  2.14  </td><td style=\"text-align: right;\">  6.9642</td><td style=\"text-align: right;\"> 11.0021</td><td style=\"text-align: right;\"> 10.0699</td><td style=\"text-align: right;\"> 15.5731</td><td style=\"text-align: right;\">  0.1915</td><td style=\"text-align: right;\"> 22.1025</td><td style=\"text-align: right;\"> 30.7677</td><td style=\"text-align: right;\">  2.3988</td><td style=\"text-align: right;\">  3.0965</td><td style=\"text-align: right;\">  -4.545 </td><td style=\"text-align: right;\">  23.8729</td><td style=\"text-align: right;\">  36.9745</td><td style=\"text-align: right;\">   1.5222</td><td style=\"text-align: right;\">  11.9584</td><td style=\"text-align: right;\">   3.465 </td><td style=\"text-align: right;\">   8.4404</td><td style=\"text-align: right;\">  11.3968</td><td style=\"text-align: right;\">  13.9903</td><td style=\"text-align: right;\">  17.9282</td><td style=\"text-align: right;\">  -0.5649</td><td style=\"text-align: right;\">   5.3877</td><td style=\"text-align: right;\">   1.807 </td><td style=\"text-align: right;\">  -1.8294</td><td style=\"text-align: right;\">   2.8018</td><td style=\"text-align: right;\">   0.8454</td><td style=\"text-align: right;\">   2.4537</td><td style=\"text-align: right;\">  34.9955</td><td style=\"text-align: right;\">   0.224 </td><td style=\"text-align: right;\">   4.1974</td><td style=\"text-align: right;\">   4.4282</td><td style=\"text-align: right;\">  12.4101</td><td style=\"text-align: right;\">  -7.7655</td><td style=\"text-align: right;\">   1.2928</td><td style=\"text-align: right;\">   8.5798</td><td style=\"text-align: right;\">  12.8171</td><td style=\"text-align: right;\">  14.4973</td><td style=\"text-align: right;\">  -1.2598</td><td style=\"text-align: right;\">   1.8858</td><td style=\"text-align: right;\">  13.9073</td><td style=\"text-align: right;\">  11.5535</td><td style=\"text-align: right;\">   0.8837</td><td style=\"text-align: right;\">   7.1566</td><td style=\"text-align: right;\">   7.1255</td><td style=\"text-align: right;\">  -4.2046</td><td style=\"text-align: right;\">   4.3684</td><td style=\"text-align: right;\">  24.8217</td><td style=\"text-align: right;\">   6.1074</td><td style=\"text-align: right;\">  -0.0965</td><td style=\"text-align: right;\">  13.9879</td><td style=\"text-align: right;\">  -4.9556</td><td style=\"text-align: right;\">   0.2103</td><td style=\"text-align: right;\">   9.1419</td><td style=\"text-align: right;\">  13.8426</td><td style=\"text-align: right;\">   9.9783</td><td style=\"text-align: right;\">   0.7826</td><td style=\"text-align: right;\">  10.2226</td><td style=\"text-align: right;\">  -2.5566</td><td style=\"text-align: right;\">   4.1254</td><td style=\"text-align: right;\">  17.5612</td><td style=\"text-align: right;\">  18.4329</td><td style=\"text-align: right;\">   5.1758</td><td style=\"text-align: right;\">   9.6876</td><td style=\"text-align: right;\">  14.7337</td><td style=\"text-align: right;\">   4.9588</td><td style=\"text-align: right;\">   6.4181</td><td style=\"text-align: right;\">  13.1664</td><td style=\"text-align: right;\"> -14.0737</td><td style=\"text-align: right;\">  11.9726</td><td style=\"text-align: right;\">   8.4054</td><td style=\"text-align: right;\">  13.1987</td><td style=\"text-align: right;\">   5.3885</td><td style=\"text-align: right;\">   5.7837</td><td style=\"text-align: right;\">   8.4724</td><td style=\"text-align: right;\">  -2.7098</td><td style=\"text-align: right;\">  21.1755</td><td style=\"text-align: right;\">   3.3216</td><td style=\"text-align: right;\">  -1.4779</td><td style=\"text-align: right;\">   6.6747</td><td style=\"text-align: right;\">   5.0731</td><td style=\"text-align: right;\">   1.5553</td><td style=\"text-align: right;\">   2.9677</td><td style=\"text-align: right;\">   4.1727</td><td style=\"text-align: right;\">  -3.0699</td><td style=\"text-align: right;\">   8.2222</td><td style=\"text-align: right;\">  10.2168</td><td style=\"text-align: right;\">   3.1185</td><td style=\"text-align: right;\">  14.8259</td><td style=\"text-align: right;\">   9.1407</td><td style=\"text-align: right;\">   5.052 </td><td style=\"text-align: right;\"> -12.3449</td><td style=\"text-align: right;\">  11.2341</td><td style=\"text-align: right;\"> -12.2888</td><td style=\"text-align: right;\">   6.143 </td><td style=\"text-align: right;\">   9.7777</td><td style=\"text-align: right;\">  -6.8179</td><td style=\"text-align: right;\">  10.5297</td><td style=\"text-align: right;\">   8.9608</td><td style=\"text-align: right;\">  13.3608</td><td style=\"text-align: right;\">   0.4324</td><td style=\"text-align: right;\">   9.8487</td><td style=\"text-align: right;\">  10.0753</td><td style=\"text-align: right;\">  -0.4822</td><td style=\"text-align: right;\">   7.7094</td><td style=\"text-align: right;\">  21.5594</td><td style=\"text-align: right;\">  -1.2662</td><td style=\"text-align: right;\">   4.1468</td><td style=\"text-align: right;\">   7.6434</td><td style=\"text-align: right;\">  13.0871</td></tr>\n",
       "<tr><td>test_199995</td><td style=\"text-align: right;\">13.1678</td><td style=\"text-align: right;\"> 1.0136</td><td style=\"text-align: right;\">10.4333</td><td style=\"text-align: right;\"> 6.7997</td><td style=\"text-align: right;\"> 8.5974</td><td style=\"text-align: right;\"> -4.1641</td><td style=\"text-align: right;\"> 4.8579</td><td style=\"text-align: right;\">14.7625</td><td style=\"text-align: right;\">-2.7239</td><td style=\"text-align: right;\"> 6.9937</td><td style=\"text-align: right;\">  2.6802</td><td style=\"text-align: right;\">  6.1565</td><td style=\"text-align: right;\"> 14.3201</td><td style=\"text-align: right;\"> 17.4594</td><td style=\"text-align: right;\">  5.3712</td><td style=\"text-align: right;\"> 14.8984</td><td style=\"text-align: right;\">  5.8064</td><td style=\"text-align: right;\">-10.0334</td><td style=\"text-align: right;\"> 16.422 </td><td style=\"text-align: right;\"> 30.7786</td><td style=\"text-align: right;\"> 22.7696</td><td style=\"text-align: right;\">  9.8526</td><td style=\"text-align: right;\">  4.0207</td><td style=\"text-align: right;\">  3.8469</td><td style=\"text-align: right;\"> 13.1617</td><td style=\"text-align: right;\"> 13.2522</td><td style=\"text-align: right;\">-12.4547</td><td style=\"text-align: right;\"> -1.9127</td><td style=\"text-align: right;\">  5.3696</td><td style=\"text-align: right;\">  6.9779</td><td style=\"text-align: right;\">-17.9649</td><td style=\"text-align: right;\"> 10.7856</td><td style=\"text-align: right;\">  0.2776</td><td style=\"text-align: right;\">  5.8071</td><td style=\"text-align: right;\"> 10.4332</td><td style=\"text-align: right;\">  8.6681</td><td style=\"text-align: right;\">  0.9646</td><td style=\"text-align: right;\"> 11.2181</td><td style=\"text-align: right;\"> 11.866 </td><td style=\"text-align: right;\">  6.3732</td><td style=\"text-align: right;\"> -2.7215</td><td style=\"text-align: right;\"> 13.342 </td><td style=\"text-align: right;\"> 11.1627</td><td style=\"text-align: right;\"> 11.6436</td><td style=\"text-align: right;\"> 18.4112</td><td style=\"text-align: right;\">-21.308 </td><td style=\"text-align: right;\"> 10.0185</td><td style=\"text-align: right;\">-32.6883</td><td style=\"text-align: right;\">  3.5985</td><td style=\"text-align: right;\"> 16.4779</td><td style=\"text-align: right;\"> 13.5237</td><td style=\"text-align: right;\"> 19.5375</td><td style=\"text-align: right;\"> -9.2097</td><td style=\"text-align: right;\">  6.442 </td><td style=\"text-align: right;\"> -2.308 </td><td style=\"text-align: right;\">  5.9196</td><td style=\"text-align: right;\">  8.8332</td><td style=\"text-align: right;\">  7.2774</td><td style=\"text-align: right;\">  2.6084</td><td style=\"text-align: right;\">  9.0486</td><td style=\"text-align: right;\"> 10.3683</td><td style=\"text-align: right;\">-25.9187</td><td style=\"text-align: right;\"> -1.0702</td><td style=\"text-align: right;\"> -1.3391</td><td style=\"text-align: right;\">  6.1586</td><td style=\"text-align: right;\"> -1.8552</td><td style=\"text-align: right;\">  4.7364</td><td style=\"text-align: right;\"> 15.6292</td><td style=\"text-align: right;\">  5.0223</td><td style=\"text-align: right;\"> -2.6639</td><td style=\"text-align: right;\"> 11.0281</td><td style=\"text-align: right;\">  0.0306</td><td style=\"text-align: right;\">  1.896 </td><td style=\"text-align: right;\"> 24.9906</td><td style=\"text-align: right;\"> 32.5007</td><td style=\"text-align: right;\">  8.3094</td><td style=\"text-align: right;\">  7.6126</td><td style=\"text-align: right;\"> 25.6503</td><td style=\"text-align: right;\">  7.2437</td><td style=\"text-align: right;\"> 15.0479</td><td style=\"text-align: right;\">  7.7879</td><td style=\"text-align: right;\"> 13.9172</td><td style=\"text-align: right;\"> -9.0753</td><td style=\"text-align: right;\">  4.8331</td><td style=\"text-align: right;\">  4.4553</td><td style=\"text-align: right;\"> 15.6388</td><td style=\"text-align: right;\">  5.5637</td><td style=\"text-align: right;\">  4.2547</td><td style=\"text-align: right;\"> 12.684 </td><td style=\"text-align: right;\">  0.0995</td><td style=\"text-align: right;\"> -1.8135</td><td style=\"text-align: right;\">  6.8214</td><td style=\"text-align: right;\">  9.3799</td><td style=\"text-align: right;\"> 11.1513</td><td style=\"text-align: right;\">  9.6868</td><td style=\"text-align: right;\"> -0.1093</td><td style=\"text-align: right;\"> 23.1655</td><td style=\"text-align: right;\">  8.3491</td><td style=\"text-align: right;\">  1.4743</td><td style=\"text-align: right;\"> -2.3265</td><td style=\"text-align: right;\">   0.0951</td><td style=\"text-align: right;\">   9.7517</td><td style=\"text-align: right;\">  28.6119</td><td style=\"text-align: right;\">   1.7091</td><td style=\"text-align: right;\">  13.6924</td><td style=\"text-align: right;\">   5.9843</td><td style=\"text-align: right;\">   7.0253</td><td style=\"text-align: right;\">  22.2816</td><td style=\"text-align: right;\">  14.2617</td><td style=\"text-align: right;\">  25.2567</td><td style=\"text-align: right;\">   1.9588</td><td style=\"text-align: right;\">   6.5321</td><td style=\"text-align: right;\">   2.993 </td><td style=\"text-align: right;\">  13.3917</td><td style=\"text-align: right;\">   0.4961</td><td style=\"text-align: right;\">  -0.6465</td><td style=\"text-align: right;\">   0.2973</td><td style=\"text-align: right;\">   9.7944</td><td style=\"text-align: right;\">   3.2861</td><td style=\"text-align: right;\">  -1.2859</td><td style=\"text-align: right;\">  29.1451</td><td style=\"text-align: right;\">  13.9596</td><td style=\"text-align: right;\">  -3.4051</td><td style=\"text-align: right;\">  13.9743</td><td style=\"text-align: right;\">   3.3887</td><td style=\"text-align: right;\">  12.2799</td><td style=\"text-align: right;\">  13.9287</td><td style=\"text-align: right;\">   4.0643</td><td style=\"text-align: right;\">  -0.3375</td><td style=\"text-align: right;\">  19.0097</td><td style=\"text-align: right;\">  12.9933</td><td style=\"text-align: right;\">   0.0775</td><td style=\"text-align: right;\">   6.6729</td><td style=\"text-align: right;\">   6.9553</td><td style=\"text-align: right;\">   6.798 </td><td style=\"text-align: right;\"> -16.6444</td><td style=\"text-align: right;\">  35.3246</td><td style=\"text-align: right;\">  21.9734</td><td style=\"text-align: right;\">  -2.6651</td><td style=\"text-align: right;\">  14.0376</td><td style=\"text-align: right;\">  -0.1133</td><td style=\"text-align: right;\">  11.9015</td><td style=\"text-align: right;\">  16.8878</td><td style=\"text-align: right;\">  12.5924</td><td style=\"text-align: right;\">   8.2578</td><td style=\"text-align: right;\">   6.1113</td><td style=\"text-align: right;\">   8.0605</td><td style=\"text-align: right;\">   8.7344</td><td style=\"text-align: right;\">   3.9054</td><td style=\"text-align: right;\">   3.1489</td><td style=\"text-align: right;\">  20.0401</td><td style=\"text-align: right;\">  15.7083</td><td style=\"text-align: right;\">   5.069 </td><td style=\"text-align: right;\">  20.4789</td><td style=\"text-align: right;\">   5.6559</td><td style=\"text-align: right;\">   7.086 </td><td style=\"text-align: right;\">  11.3302</td><td style=\"text-align: right;\">  -4.682 </td><td style=\"text-align: right;\">  12.0228</td><td style=\"text-align: right;\">  11.1629</td><td style=\"text-align: right;\">  21.4193</td><td style=\"text-align: right;\">   5.3269</td><td style=\"text-align: right;\">   6.851 </td><td style=\"text-align: right;\">  15.7062</td><td style=\"text-align: right;\">  -3.0267</td><td style=\"text-align: right;\">  21.8848</td><td style=\"text-align: right;\">   3.5995</td><td style=\"text-align: right;\">  -2.5442</td><td style=\"text-align: right;\">   3.7888</td><td style=\"text-align: right;\">   6.6096</td><td style=\"text-align: right;\">  -6.3101</td><td style=\"text-align: right;\">   2.2246</td><td style=\"text-align: right;\">  29.031 </td><td style=\"text-align: right;\">   5.0331</td><td style=\"text-align: right;\">  26.2206</td><td style=\"text-align: right;\">  14.3811</td><td style=\"text-align: right;\">  -4.5834</td><td style=\"text-align: right;\">   9.8823</td><td style=\"text-align: right;\">  12.3426</td><td style=\"text-align: right;\">   7.3865</td><td style=\"text-align: right;\"> -11.881 </td><td style=\"text-align: right;\">  10.4412</td><td style=\"text-align: right;\">  -0.9849</td><td style=\"text-align: right;\">  10.976 </td><td style=\"text-align: right;\">  12.3183</td><td style=\"text-align: right;\">  -2.7719</td><td style=\"text-align: right;\">   5.882 </td><td style=\"text-align: right;\">   8.5245</td><td style=\"text-align: right;\">  17.5356</td><td style=\"text-align: right;\">   1.0903</td><td style=\"text-align: right;\">   2.0544</td><td style=\"text-align: right;\">   9.6849</td><td style=\"text-align: right;\">   4.6734</td><td style=\"text-align: right;\">  -1.366 </td><td style=\"text-align: right;\">  12.8721</td><td style=\"text-align: right;\">   1.2013</td><td style=\"text-align: right;\">  -4.6195</td><td style=\"text-align: right;\">   9.1568</td><td style=\"text-align: right;\">  18.2102</td></tr>\n",
       "<tr><td>test_199996</td><td style=\"text-align: right;\"> 9.7171</td><td style=\"text-align: right;\">-9.1462</td><td style=\"text-align: right;\"> 7.3443</td><td style=\"text-align: right;\"> 9.1421</td><td style=\"text-align: right;\">12.8936</td><td style=\"text-align: right;\">  3.0191</td><td style=\"text-align: right;\"> 5.6888</td><td style=\"text-align: right;\">18.8862</td><td style=\"text-align: right;\"> 5.0915</td><td style=\"text-align: right;\"> 6.3545</td><td style=\"text-align: right;\">  3.2618</td><td style=\"text-align: right;\"> -2.0445</td><td style=\"text-align: right;\"> 13.8246</td><td style=\"text-align: right;\">  6.6547</td><td style=\"text-align: right;\">  5.0309</td><td style=\"text-align: right;\"> 14.1999</td><td style=\"text-align: right;\">  8.5685</td><td style=\"text-align: right;\">  3.819 </td><td style=\"text-align: right;\"> 11.4428</td><td style=\"text-align: right;\"> 19.6761</td><td style=\"text-align: right;\"> 22.4473</td><td style=\"text-align: right;\"> 16.6921</td><td style=\"text-align: right;\">  5.5064</td><td style=\"text-align: right;\">  3.616 </td><td style=\"text-align: right;\"> 10.4145</td><td style=\"text-align: right;\"> 13.5557</td><td style=\"text-align: right;\">  0.0592</td><td style=\"text-align: right;\"> -1.8571</td><td style=\"text-align: right;\">  6.3351</td><td style=\"text-align: right;\">  6.4782</td><td style=\"text-align: right;\">-15.0057</td><td style=\"text-align: right;\"> 11.0107</td><td style=\"text-align: right;\">  1.1463</td><td style=\"text-align: right;\"> 11.1037</td><td style=\"text-align: right;\"> 11.7266</td><td style=\"text-align: right;\">  2.2244</td><td style=\"text-align: right;\">  1.3367</td><td style=\"text-align: right;\">  3.8213</td><td style=\"text-align: right;\">  2.7258</td><td style=\"text-align: right;\">  4.1475</td><td style=\"text-align: right;\">-12.1092</td><td style=\"text-align: right;\"> 23.2927</td><td style=\"text-align: right;\"> 11.1598</td><td style=\"text-align: right;\"> 11.4884</td><td style=\"text-align: right;\">  4.9641</td><td style=\"text-align: right;\">-48.3446</td><td style=\"text-align: right;\"> 12.154 </td><td style=\"text-align: right;\">  8.2999</td><td style=\"text-align: right;\"> 10.1927</td><td style=\"text-align: right;\">  9.3731</td><td style=\"text-align: right;\"> 11.2994</td><td style=\"text-align: right;\"> 26.2671</td><td style=\"text-align: right;\">  1.9017</td><td style=\"text-align: right;\">  6.2642</td><td style=\"text-align: right;\"> 10.4324</td><td style=\"text-align: right;\"> 18.2401</td><td style=\"text-align: right;\"> 17.9493</td><td style=\"text-align: right;\">  5.4887</td><td style=\"text-align: right;\"> -1.4498</td><td style=\"text-align: right;\">  7.9868</td><td style=\"text-align: right;\">  6.1265</td><td style=\"text-align: right;\"> -9.8509</td><td style=\"text-align: right;\">  3.6689</td><td style=\"text-align: right;\"> -0.1774</td><td style=\"text-align: right;\">  5.5691</td><td style=\"text-align: right;\">  2.9599</td><td style=\"text-align: right;\">  5.3306</td><td style=\"text-align: right;\"> 14.8157</td><td style=\"text-align: right;\">  5.0154</td><td style=\"text-align: right;\"> -3.0839</td><td style=\"text-align: right;\"> 11.1069</td><td style=\"text-align: right;\">  0.3795</td><td style=\"text-align: right;\">  8.5277</td><td style=\"text-align: right;\">  4.1178</td><td style=\"text-align: right;\"> 41.1888</td><td style=\"text-align: right;\"> 14.107 </td><td style=\"text-align: right;\">  7.8092</td><td style=\"text-align: right;\"> 14.2418</td><td style=\"text-align: right;\">  4.2794</td><td style=\"text-align: right;\"> 15.5445</td><td style=\"text-align: right;\"> 12.1609</td><td style=\"text-align: right;\"> 15.5275</td><td style=\"text-align: right;\"> -4.609 </td><td style=\"text-align: right;\">  7.3667</td><td style=\"text-align: right;\">  8.6763</td><td style=\"text-align: right;\"> 18.618 </td><td style=\"text-align: right;\"> 10.0517</td><td style=\"text-align: right;\"> 19.1785</td><td style=\"text-align: right;\">  6.242 </td><td style=\"text-align: right;\">  7.0502</td><td style=\"text-align: right;\">-28.9851</td><td style=\"text-align: right;\">  6.7225</td><td style=\"text-align: right;\"> 17.3362</td><td style=\"text-align: right;\"> 10.8515</td><td style=\"text-align: right;\"> 16.2477</td><td style=\"text-align: right;\">  0.5921</td><td style=\"text-align: right;\"> 22.7872</td><td style=\"text-align: right;\"> 25.731 </td><td style=\"text-align: right;\">  1.7975</td><td style=\"text-align: right;\"> -2.0057</td><td style=\"text-align: right;\">  -6.1583</td><td style=\"text-align: right;\">  20.4441</td><td style=\"text-align: right;\">  21.8421</td><td style=\"text-align: right;\">   1.7256</td><td style=\"text-align: right;\">   8.5803</td><td style=\"text-align: right;\">   4.9388</td><td style=\"text-align: right;\">   8.8325</td><td style=\"text-align: right;\">   7.6675</td><td style=\"text-align: right;\">  14.0468</td><td style=\"text-align: right;\">  17.116 </td><td style=\"text-align: right;\">   6.3677</td><td style=\"text-align: right;\">   5.4146</td><td style=\"text-align: right;\">   1.9411</td><td style=\"text-align: right;\">   2.6129</td><td style=\"text-align: right;\">   3.4406</td><td style=\"text-align: right;\">   3.426 </td><td style=\"text-align: right;\">   2.3695</td><td style=\"text-align: right;\">  -8.9106</td><td style=\"text-align: right;\"> -13.8603</td><td style=\"text-align: right;\">  -2.0931</td><td style=\"text-align: right;\">  31.8407</td><td style=\"text-align: right;\">  13.8584</td><td style=\"text-align: right;\">  -3.226 </td><td style=\"text-align: right;\">   6.3128</td><td style=\"text-align: right;\">   5.8228</td><td style=\"text-align: right;\">  12.7894</td><td style=\"text-align: right;\">  12.2272</td><td style=\"text-align: right;\">  -5.2897</td><td style=\"text-align: right;\">   1.6418</td><td style=\"text-align: right;\">  21.5449</td><td style=\"text-align: right;\">  12.9118</td><td style=\"text-align: right;\">   0.9432</td><td style=\"text-align: right;\">   7.1812</td><td style=\"text-align: right;\">   6.6422</td><td style=\"text-align: right;\"> -12.4054</td><td style=\"text-align: right;\">   3.2377</td><td style=\"text-align: right;\">  13.9731</td><td style=\"text-align: right;\">   3.7137</td><td style=\"text-align: right;\">   0.7522</td><td style=\"text-align: right;\">  16.9374</td><td style=\"text-align: right;\">  -0.7161</td><td style=\"text-align: right;\">  -0.3948</td><td style=\"text-align: right;\">   7.7641</td><td style=\"text-align: right;\">  10.755 </td><td style=\"text-align: right;\">   9.0705</td><td style=\"text-align: right;\">   1.6564</td><td style=\"text-align: right;\">   9.9044</td><td style=\"text-align: right;\"> -13.0327</td><td style=\"text-align: right;\">   4.0327</td><td style=\"text-align: right;\">  -7.0027</td><td style=\"text-align: right;\">  14.8   </td><td style=\"text-align: right;\">   9.1898</td><td style=\"text-align: right;\">   4.2972</td><td style=\"text-align: right;\">  20.3867</td><td style=\"text-align: right;\">  13.5508</td><td style=\"text-align: right;\">  -7.4707</td><td style=\"text-align: right;\">  13.2292</td><td style=\"text-align: right;\">  -3.5045</td><td style=\"text-align: right;\">   9.0808</td><td style=\"text-align: right;\">   8.0147</td><td style=\"text-align: right;\">  25.5856</td><td style=\"text-align: right;\">   5.6828</td><td style=\"text-align: right;\">   3.9202</td><td style=\"text-align: right;\">  10.5955</td><td style=\"text-align: right;\">  -2.9063</td><td style=\"text-align: right;\">  18.2834</td><td style=\"text-align: right;\">   3.0946</td><td style=\"text-align: right;\"> -13.0401</td><td style=\"text-align: right;\">  10.6693</td><td style=\"text-align: right;\">   5.4541</td><td style=\"text-align: right;\">   0.0289</td><td style=\"text-align: right;\">   1.5879</td><td style=\"text-align: right;\">   8.3102</td><td style=\"text-align: right;\">   6.5891</td><td style=\"text-align: right;\">  20.1379</td><td style=\"text-align: right;\">  14.4782</td><td style=\"text-align: right;\">  -7.6099</td><td style=\"text-align: right;\">   8.8498</td><td style=\"text-align: right;\"> -11.0107</td><td style=\"text-align: right;\">  -1.7399</td><td style=\"text-align: right;\">  -1.4862</td><td style=\"text-align: right;\">  10.0511</td><td style=\"text-align: right;\"> -15.125 </td><td style=\"text-align: right;\">   7.5211</td><td style=\"text-align: right;\">  26.2435</td><td style=\"text-align: right;\">  -0.8879</td><td style=\"text-align: right;\">   6.4135</td><td style=\"text-align: right;\">  -1.1382</td><td style=\"text-align: right;\">  15.4816</td><td style=\"text-align: right;\">   1.7106</td><td style=\"text-align: right;\">   5.0071</td><td style=\"text-align: right;\">   6.6548</td><td style=\"text-align: right;\">   1.8197</td><td style=\"text-align: right;\">   2.4104</td><td style=\"text-align: right;\">  18.9037</td><td style=\"text-align: right;\">  -0.9337</td><td style=\"text-align: right;\">   2.9995</td><td style=\"text-align: right;\">   9.1112</td><td style=\"text-align: right;\">  18.174 </td></tr>\n",
       "<tr><td>test_199997</td><td style=\"text-align: right;\">11.636 </td><td style=\"text-align: right;\"> 2.2769</td><td style=\"text-align: right;\">11.2074</td><td style=\"text-align: right;\"> 7.7649</td><td style=\"text-align: right;\">12.6796</td><td style=\"text-align: right;\"> 11.3224</td><td style=\"text-align: right;\"> 5.3883</td><td style=\"text-align: right;\">18.3794</td><td style=\"text-align: right;\"> 1.6603</td><td style=\"text-align: right;\"> 5.7341</td><td style=\"text-align: right;\">  9.8596</td><td style=\"text-align: right;\"> -0.3412</td><td style=\"text-align: right;\"> 14.0675</td><td style=\"text-align: right;\"> 13.9975</td><td style=\"text-align: right;\">  6.2574</td><td style=\"text-align: right;\"> 15.1456</td><td style=\"text-align: right;\">  8.125 </td><td style=\"text-align: right;\"> -7.3642</td><td style=\"text-align: right;\"> 15.4767</td><td style=\"text-align: right;\"> 15.9472</td><td style=\"text-align: right;\"> 16.658 </td><td style=\"text-align: right;\"> 16.0286</td><td style=\"text-align: right;\">  0.6066</td><td style=\"text-align: right;\">  3.5773</td><td style=\"text-align: right;\">  4.4758</td><td style=\"text-align: right;\"> 13.8995</td><td style=\"text-align: right;\"> -9.1787</td><td style=\"text-align: right;\"> -2.3696</td><td style=\"text-align: right;\">  4.6504</td><td style=\"text-align: right;\">  7.7074</td><td style=\"text-align: right;\">-14.7738</td><td style=\"text-align: right;\">  9.6374</td><td style=\"text-align: right;\"> -0.4069</td><td style=\"text-align: right;\"> 11.368 </td><td style=\"text-align: right;\"> 11.3627</td><td style=\"text-align: right;\">  6.7611</td><td style=\"text-align: right;\">  7.6036</td><td style=\"text-align: right;\">  8.1942</td><td style=\"text-align: right;\">  6.4839</td><td style=\"text-align: right;\"> -4.3884</td><td style=\"text-align: right;\"> -5.9079</td><td style=\"text-align: right;\">  5.028 </td><td style=\"text-align: right;\"> 11.5624</td><td style=\"text-align: right;\"> 11.4365</td><td style=\"text-align: right;\"> 12.9517</td><td style=\"text-align: right;\">-18.5914</td><td style=\"text-align: right;\"> 12.8493</td><td style=\"text-align: right;\">  3.0741</td><td style=\"text-align: right;\"> 21.9976</td><td style=\"text-align: right;\"> 18.4512</td><td style=\"text-align: right;\"> 11.8303</td><td style=\"text-align: right;\"> 10.64  </td><td style=\"text-align: right;\">  3.5688</td><td style=\"text-align: right;\">  6.2427</td><td style=\"text-align: right;\"> 13.5062</td><td style=\"text-align: right;\"> 18.1115</td><td style=\"text-align: right;\"> 21.0827</td><td style=\"text-align: right;\">  6.1489</td><td style=\"text-align: right;\">  9.2677</td><td style=\"text-align: right;\">  8.9175</td><td style=\"text-align: right;\">  7.6591</td><td style=\"text-align: right;\">-19.9361</td><td style=\"text-align: right;\">  2.6324</td><td style=\"text-align: right;\"> -4.8658</td><td style=\"text-align: right;\">  7.0998</td><td style=\"text-align: right;\">  2.4941</td><td style=\"text-align: right;\">  5.0471</td><td style=\"text-align: right;\">  4.473 </td><td style=\"text-align: right;\">  5.0294</td><td style=\"text-align: right;\"> -7.1495</td><td style=\"text-align: right;\"> 11.0807</td><td style=\"text-align: right;\">  0.2335</td><td style=\"text-align: right;\"> 10.5464</td><td style=\"text-align: right;\"> 12.5727</td><td style=\"text-align: right;\"> 45.7036</td><td style=\"text-align: right;\"> 23.5307</td><td style=\"text-align: right;\"> -4.1993</td><td style=\"text-align: right;\"> 19.3466</td><td style=\"text-align: right;\">  5.8432</td><td style=\"text-align: right;\"> 12.7485</td><td style=\"text-align: right;\"> 12.0411</td><td style=\"text-align: right;\"> 15.288 </td><td style=\"text-align: right;\"> -3.4333</td><td style=\"text-align: right;\">  4.0775</td><td style=\"text-align: right;\"> -7.9256</td><td style=\"text-align: right;\"> 26.242 </td><td style=\"text-align: right;\"> 13.7303</td><td style=\"text-align: right;\">  3.0444</td><td style=\"text-align: right;\"> 11.8603</td><td style=\"text-align: right;\">  3.0822</td><td style=\"text-align: right;\">-16.0234</td><td style=\"text-align: right;\">  7.1124</td><td style=\"text-align: right;\">  7.4361</td><td style=\"text-align: right;\"> 10.7057</td><td style=\"text-align: right;\"> 15.3976</td><td style=\"text-align: right;\"> -0.6755</td><td style=\"text-align: right;\">  6.7713</td><td style=\"text-align: right;\"> -4.9342</td><td style=\"text-align: right;\">  1.6797</td><td style=\"text-align: right;\"> -0.3975</td><td style=\"text-align: right;\">  -3.0749</td><td style=\"text-align: right;\">   3.1074</td><td style=\"text-align: right;\">  12.0068</td><td style=\"text-align: right;\">   1.6774</td><td style=\"text-align: right;\">  11.3799</td><td style=\"text-align: right;\">   4.238 </td><td style=\"text-align: right;\">  11.1093</td><td style=\"text-align: right;\">  25.8779</td><td style=\"text-align: right;\">  14.2004</td><td style=\"text-align: right;\">  18.504 </td><td style=\"text-align: right;\">   0.2553</td><td style=\"text-align: right;\">   5.2585</td><td style=\"text-align: right;\">   3.1487</td><td style=\"text-align: right;\">  12.9586</td><td style=\"text-align: right;\">   3.6474</td><td style=\"text-align: right;\">   3.4343</td><td style=\"text-align: right;\">   3.0913</td><td style=\"text-align: right;\">   0.1812</td><td style=\"text-align: right;\"> -15.1198</td><td style=\"text-align: right;\">   5.7577</td><td style=\"text-align: right;\">  30.2584</td><td style=\"text-align: right;\">  10.6134</td><td style=\"text-align: right;\">  11.0362</td><td style=\"text-align: right;\">  -1.0272</td><td style=\"text-align: right;\">   7.6308</td><td style=\"text-align: right;\">  12.1679</td><td style=\"text-align: right;\">  13.4871</td><td style=\"text-align: right;\">   6.6516</td><td style=\"text-align: right;\">  -8.1981</td><td style=\"text-align: right;\">  10.2774</td><td style=\"text-align: right;\">  11.1849</td><td style=\"text-align: right;\">   0.587 </td><td style=\"text-align: right;\">   7.8552</td><td style=\"text-align: right;\">   6.7956</td><td style=\"text-align: right;\"> -11.6795</td><td style=\"text-align: right;\"> -12.0268</td><td style=\"text-align: right;\">   9.9814</td><td style=\"text-align: right;\">   3.775 </td><td style=\"text-align: right;\">   6.3198</td><td style=\"text-align: right;\">  16.5629</td><td style=\"text-align: right;\">   1.834 </td><td style=\"text-align: right;\">   6.0521</td><td style=\"text-align: right;\">  10.0612</td><td style=\"text-align: right;\">   9.0817</td><td style=\"text-align: right;\">   9.1189</td><td style=\"text-align: right;\">   0.5069</td><td style=\"text-align: right;\">  12.0198</td><td style=\"text-align: right;\"> -10.6833</td><td style=\"text-align: right;\">   3.9412</td><td style=\"text-align: right;\">   5.4013</td><td style=\"text-align: right;\">  11.9457</td><td style=\"text-align: right;\">  10.78  </td><td style=\"text-align: right;\">   4.8995</td><td style=\"text-align: right;\">  16.5055</td><td style=\"text-align: right;\">   0.9823</td><td style=\"text-align: right;\">   9.045 </td><td style=\"text-align: right;\">  12.2711</td><td style=\"text-align: right;\"> -16.113 </td><td style=\"text-align: right;\">  11.0062</td><td style=\"text-align: right;\">   7.5311</td><td style=\"text-align: right;\">  31.752 </td><td style=\"text-align: right;\">   5.7419</td><td style=\"text-align: right;\">   7.3339</td><td style=\"text-align: right;\">   9.1077</td><td style=\"text-align: right;\">  -1.9905</td><td style=\"text-align: right;\">  11.9434</td><td style=\"text-align: right;\">   3.2239</td><td style=\"text-align: right;\">  -9.1386</td><td style=\"text-align: right;\">   4.1733</td><td style=\"text-align: right;\">   5.9515</td><td style=\"text-align: right;\">  -5.8944</td><td style=\"text-align: right;\">   2.6633</td><td style=\"text-align: right;\">  30.7599</td><td style=\"text-align: right;\"> -13.199 </td><td style=\"text-align: right;\">  18.9432</td><td style=\"text-align: right;\">  15.5096</td><td style=\"text-align: right;\">  -6.8353</td><td style=\"text-align: right;\">  11.1724</td><td style=\"text-align: right;\">  -0.5545</td><td style=\"text-align: right;\">  -2.9957</td><td style=\"text-align: right;\">  -2.173 </td><td style=\"text-align: right;\">  11.1961</td><td style=\"text-align: right;\">  13.057 </td><td style=\"text-align: right;\">  17.0153</td><td style=\"text-align: right;\">   1.7004</td><td style=\"text-align: right;\">  -7.2363</td><td style=\"text-align: right;\">   8.1679</td><td style=\"text-align: right;\"> -15.7536</td><td style=\"text-align: right;\">  16.3071</td><td style=\"text-align: right;\">  -1.0926</td><td style=\"text-align: right;\">   5.1536</td><td style=\"text-align: right;\">   2.6498</td><td style=\"text-align: right;\">   2.4937</td><td style=\"text-align: right;\">  -0.0637</td><td style=\"text-align: right;\">  20.0609</td><td style=\"text-align: right;\">  -1.1742</td><td style=\"text-align: right;\">  -4.1524</td><td style=\"text-align: right;\">   9.1933</td><td style=\"text-align: right;\">  11.7905</td></tr>\n",
       "<tr><td>test_199998</td><td style=\"text-align: right;\">13.5745</td><td style=\"text-align: right;\">-0.5134</td><td style=\"text-align: right;\">13.6584</td><td style=\"text-align: right;\"> 7.4855</td><td style=\"text-align: right;\">11.2241</td><td style=\"text-align: right;\">-11.3037</td><td style=\"text-align: right;\"> 4.1959</td><td style=\"text-align: right;\">16.828 </td><td style=\"text-align: right;\"> 5.3208</td><td style=\"text-align: right;\"> 8.9032</td><td style=\"text-align: right;\">  5.5   </td><td style=\"text-align: right;\">-13.1346</td><td style=\"text-align: right;\"> 14.3051</td><td style=\"text-align: right;\">  4.2644</td><td style=\"text-align: right;\"> 11.1258</td><td style=\"text-align: right;\"> 14.781 </td><td style=\"text-align: right;\"> 10.7184</td><td style=\"text-align: right;\">-11.1223</td><td style=\"text-align: right;\"> 14.3151</td><td style=\"text-align: right;\"> 11.8348</td><td style=\"text-align: right;\"> 12.2356</td><td style=\"text-align: right;\"> 20.9599</td><td style=\"text-align: right;\">  1.1101</td><td style=\"text-align: right;\">  3.0801</td><td style=\"text-align: right;\">  6.2626</td><td style=\"text-align: right;\"> 14.0242</td><td style=\"text-align: right;\">  3.6157</td><td style=\"text-align: right;\"> -1.3483</td><td style=\"text-align: right;\">  6.5041</td><td style=\"text-align: right;\">  6.5306</td><td style=\"text-align: right;\">-20.2249</td><td style=\"text-align: right;\"> 10.793 </td><td style=\"text-align: right;\"> -5.3353</td><td style=\"text-align: right;\">  9.9596</td><td style=\"text-align: right;\"> 11.4595</td><td style=\"text-align: right;\">  8.1176</td><td style=\"text-align: right;\">  2.5997</td><td style=\"text-align: right;\">  3.137 </td><td style=\"text-align: right;\">  3.5781</td><td style=\"text-align: right;\"> -1.5041</td><td style=\"text-align: right;\">  1.9454</td><td style=\"text-align: right;\"> 17.6266</td><td style=\"text-align: right;\"> 10.1011</td><td style=\"text-align: right;\"> 11.5196</td><td style=\"text-align: right;\"> 15.5804</td><td style=\"text-align: right;\">-40.051 </td><td style=\"text-align: right;\"> 13.1581</td><td style=\"text-align: right;\"> -7.2331</td><td style=\"text-align: right;\">  9.757 </td><td style=\"text-align: right;\"> 15.1549</td><td style=\"text-align: right;\"> 13.5322</td><td style=\"text-align: right;\">  8.7843</td><td style=\"text-align: right;\"> -2.4228</td><td style=\"text-align: right;\">  4.9431</td><td style=\"text-align: right;\">-15.9333</td><td style=\"text-align: right;\"> 15.0729</td><td style=\"text-align: right;\"> 17.6372</td><td style=\"text-align: right;\">  7.58  </td><td style=\"text-align: right;\">  1.9298</td><td style=\"text-align: right;\">  8.3256</td><td style=\"text-align: right;\"> 14.6316</td><td style=\"text-align: right;\"> -3.9736</td><td style=\"text-align: right;\">  0.9698</td><td style=\"text-align: right;\"> -1.3938</td><td style=\"text-align: right;\">  5.0658</td><td style=\"text-align: right;\">  2.4233</td><td style=\"text-align: right;\">  7.4078</td><td style=\"text-align: right;\">  4.2432</td><td style=\"text-align: right;\">  5.0181</td><td style=\"text-align: right;\"> -4.3118</td><td style=\"text-align: right;\"> 27.3033</td><td style=\"text-align: right;\">  0.9399</td><td style=\"text-align: right;\">  7.0138</td><td style=\"text-align: right;\"> 12.4946</td><td style=\"text-align: right;\"> 32.2448</td><td style=\"text-align: right;\"> 21.2218</td><td style=\"text-align: right;\"> 15.5314</td><td style=\"text-align: right;\"> 18.903 </td><td style=\"text-align: right;\">  2.003 </td><td style=\"text-align: right;\"> 15.6688</td><td style=\"text-align: right;\">  2.3608</td><td style=\"text-align: right;\">  9.1805</td><td style=\"text-align: right;\"> -4.3252</td><td style=\"text-align: right;\"> -2.6203</td><td style=\"text-align: right;\"> -1.8899</td><td style=\"text-align: right;\"> 16.7015</td><td style=\"text-align: right;\"> 10.2513</td><td style=\"text-align: right;\">  1.4672</td><td style=\"text-align: right;\"> 11.7386</td><td style=\"text-align: right;\">  2.0682</td><td style=\"text-align: right;\"> -8.2107</td><td style=\"text-align: right;\">  6.7505</td><td style=\"text-align: right;\"> 18.3474</td><td style=\"text-align: right;\"> 11.316 </td><td style=\"text-align: right;\"> 10.6454</td><td style=\"text-align: right;\"> -0.9224</td><td style=\"text-align: right;\"> 11.8991</td><td style=\"text-align: right;\"> 26.8269</td><td style=\"text-align: right;\">  2.7603</td><td style=\"text-align: right;\">  0.3056</td><td style=\"text-align: right;\">   1.503 </td><td style=\"text-align: right;\">  12.7682</td><td style=\"text-align: right;\">  35.0019</td><td style=\"text-align: right;\">   1.4541</td><td style=\"text-align: right;\">   9.617 </td><td style=\"text-align: right;\">   4.1599</td><td style=\"text-align: right;\">   9.2192</td><td style=\"text-align: right;\">  25.7227</td><td style=\"text-align: right;\">  13.9813</td><td style=\"text-align: right;\">  16.1063</td><td style=\"text-align: right;\">  10.8259</td><td style=\"text-align: right;\">   4.6892</td><td style=\"text-align: right;\">   1.4154</td><td style=\"text-align: right;\">   2.5782</td><td style=\"text-align: right;\">   4.7853</td><td style=\"text-align: right;\">  -2.7854</td><td style=\"text-align: right;\">  -0.6011</td><td style=\"text-align: right;\">  16.0398</td><td style=\"text-align: right;\">   9.9258</td><td style=\"text-align: right;\">  -1.0264</td><td style=\"text-align: right;\">  16.3168</td><td style=\"text-align: right;\">  11.5549</td><td style=\"text-align: right;\">   4.0843</td><td style=\"text-align: right;\">  12.0524</td><td style=\"text-align: right;\">   3.7198</td><td style=\"text-align: right;\">  12.559 </td><td style=\"text-align: right;\">  13.6529</td><td style=\"text-align: right;\">  -1.9074</td><td style=\"text-align: right;\">   2.4535</td><td style=\"text-align: right;\">  14.3782</td><td style=\"text-align: right;\">  11.7188</td><td style=\"text-align: right;\">   0.1629</td><td style=\"text-align: right;\">   6.9152</td><td style=\"text-align: right;\">   7.0122</td><td style=\"text-align: right;\">  -4.8853</td><td style=\"text-align: right;\"> -12.7374</td><td style=\"text-align: right;\">  26.1177</td><td style=\"text-align: right;\">   8.1881</td><td style=\"text-align: right;\">   6.8306</td><td style=\"text-align: right;\">   7.2125</td><td style=\"text-align: right;\">  10.1435</td><td style=\"text-align: right;\">   0.5383</td><td style=\"text-align: right;\">  20.7843</td><td style=\"text-align: right;\">   9.3229</td><td style=\"text-align: right;\">   6.8672</td><td style=\"text-align: right;\">  10.5108</td><td style=\"text-align: right;\">  10.3614</td><td style=\"text-align: right;\">  -1.9175</td><td style=\"text-align: right;\">   4.242 </td><td style=\"text-align: right;\">  -5.8745</td><td style=\"text-align: right;\">  16.8626</td><td style=\"text-align: right;\">   9.3239</td><td style=\"text-align: right;\">   7.4385</td><td style=\"text-align: right;\">  14.7483</td><td style=\"text-align: right;\">  13.3585</td><td style=\"text-align: right;\">  -4.1428</td><td style=\"text-align: right;\">  14.171 </td><td style=\"text-align: right;\">  -6.1347</td><td style=\"text-align: right;\">   9.6632</td><td style=\"text-align: right;\">  17.894 </td><td style=\"text-align: right;\">  28.551 </td><td style=\"text-align: right;\">   5.6456</td><td style=\"text-align: right;\">   3.5223</td><td style=\"text-align: right;\">   7.3218</td><td style=\"text-align: right;\">  -0.4352</td><td style=\"text-align: right;\">  20.141 </td><td style=\"text-align: right;\">   3.2078</td><td style=\"text-align: right;\">  -3.3613</td><td style=\"text-align: right;\">   2.5097</td><td style=\"text-align: right;\">   5.3997</td><td style=\"text-align: right;\">  -5.8704</td><td style=\"text-align: right;\">  -0.7192</td><td style=\"text-align: right;\">  22.2659</td><td style=\"text-align: right;\">   2.2206</td><td style=\"text-align: right;\">  13.2572</td><td style=\"text-align: right;\">   9.2657</td><td style=\"text-align: right;\"> -12.6796</td><td style=\"text-align: right;\">  10.6895</td><td style=\"text-align: right;\"> -15.4493</td><td style=\"text-align: right;\">   2.5477</td><td style=\"text-align: right;\">   2.1028</td><td style=\"text-align: right;\">  11.3081</td><td style=\"text-align: right;\">  -0.916 </td><td style=\"text-align: right;\">  15.2015</td><td style=\"text-align: right;\">  -0.9905</td><td style=\"text-align: right;\"> -13.6271</td><td style=\"text-align: right;\">  11.539 </td><td style=\"text-align: right;\"> -24.8621</td><td style=\"text-align: right;\">   6.6792</td><td style=\"text-align: right;\">   0.8885</td><td style=\"text-align: right;\">   3.4259</td><td style=\"text-align: right;\">   8.5012</td><td style=\"text-align: right;\">   2.2713</td><td style=\"text-align: right;\">   5.7621</td><td style=\"text-align: right;\">  17.0056</td><td style=\"text-align: right;\">   1.1763</td><td style=\"text-align: right;\">  -2.3761</td><td style=\"text-align: right;\">   8.1079</td><td style=\"text-align: right;\">   8.7735</td></tr>\n",
       "<tr><td>test_199999</td><td style=\"text-align: right;\">10.4664</td><td style=\"text-align: right;\"> 1.807 </td><td style=\"text-align: right;\">10.2277</td><td style=\"text-align: right;\"> 6.0654</td><td style=\"text-align: right;\">10.0258</td><td style=\"text-align: right;\">  1.0789</td><td style=\"text-align: right;\"> 4.8879</td><td style=\"text-align: right;\">14.4892</td><td style=\"text-align: right;\">-0.5902</td><td style=\"text-align: right;\"> 7.8362</td><td style=\"text-align: right;\">  8.4796</td><td style=\"text-align: right;\"> -5.896 </td><td style=\"text-align: right;\"> 13.8333</td><td style=\"text-align: right;\">  2.459 </td><td style=\"text-align: right;\">  7.8881</td><td style=\"text-align: right;\"> 14.8566</td><td style=\"text-align: right;\"> 10.4665</td><td style=\"text-align: right;\">-11.8235</td><td style=\"text-align: right;\"> 25.243 </td><td style=\"text-align: right;\"> 20.9039</td><td style=\"text-align: right;\"> 19.0743</td><td style=\"text-align: right;\"> 15.5896</td><td style=\"text-align: right;\"> -2.1275</td><td style=\"text-align: right;\">  2.9672</td><td style=\"text-align: right;\">  2.0289</td><td style=\"text-align: right;\"> 13.9641</td><td style=\"text-align: right;\"> -2.7192</td><td style=\"text-align: right;\">  0.9102</td><td style=\"text-align: right;\">  4.1522</td><td style=\"text-align: right;\">  3.9101</td><td style=\"text-align: right;\"> -8.6119</td><td style=\"text-align: right;\"> 11.5158</td><td style=\"text-align: right;\">  2.8218</td><td style=\"text-align: right;\"> 11.5082</td><td style=\"text-align: right;\"> 11.2149</td><td style=\"text-align: right;\">  5.4528</td><td style=\"text-align: right;\"> -0.5887</td><td style=\"text-align: right;\">  2.878 </td><td style=\"text-align: right;\">  7.0659</td><td style=\"text-align: right;\">  5.823 </td><td style=\"text-align: right;\"> -2.1438</td><td style=\"text-align: right;\">  1.5189</td><td style=\"text-align: right;\"> 11.0499</td><td style=\"text-align: right;\"> 11.6297</td><td style=\"text-align: right;\">  9.2466</td><td style=\"text-align: right;\">-21.8501</td><td style=\"text-align: right;\"> 11.9929</td><td style=\"text-align: right;\">-24.7056</td><td style=\"text-align: right;\"> 13.693 </td><td style=\"text-align: right;\"> 31.2491</td><td style=\"text-align: right;\"> 13.5394</td><td style=\"text-align: right;\"> -0.0924</td><td style=\"text-align: right;\"> -4.5169</td><td style=\"text-align: right;\">  6.0381</td><td style=\"text-align: right;\"> -1.164 </td><td style=\"text-align: right;\"> 10.3343</td><td style=\"text-align: right;\"> 13.0089</td><td style=\"text-align: right;\">  5.8252</td><td style=\"text-align: right;\">  4.8179</td><td style=\"text-align: right;\">  9.4205</td><td style=\"text-align: right;\"> 16.9195</td><td style=\"text-align: right;\">-22.2258</td><td style=\"text-align: right;\">  0.9074</td><td style=\"text-align: right;\">  2.0655</td><td style=\"text-align: right;\">  7.148 </td><td style=\"text-align: right;\"> -2.7835</td><td style=\"text-align: right;\">  5.1201</td><td style=\"text-align: right;\"> 20.625 </td><td style=\"text-align: right;\">  5.0179</td><td style=\"text-align: right;\">  2.5964</td><td style=\"text-align: right;\"> 19.1312</td><td style=\"text-align: right;\">  0.8608</td><td style=\"text-align: right;\">  2.1197</td><td style=\"text-align: right;\"> 14.4495</td><td style=\"text-align: right;\"> 25.5517</td><td style=\"text-align: right;\"> 18.2896</td><td style=\"text-align: right;\"> -0.6072</td><td style=\"text-align: right;\"> 19.7737</td><td style=\"text-align: right;\">  8.0756</td><td style=\"text-align: right;\"> 15.2295</td><td style=\"text-align: right;\">  8.011 </td><td style=\"text-align: right;\"> 11.3898</td><td style=\"text-align: right;\"> -3.7269</td><td style=\"text-align: right;\"> -4.8575</td><td style=\"text-align: right;\">  2.085 </td><td style=\"text-align: right;\"> 17.8978</td><td style=\"text-align: right;\">  7.3186</td><td style=\"text-align: right;\">  9.8698</td><td style=\"text-align: right;\"> 10.1636</td><td style=\"text-align: right;\">  5.395 </td><td style=\"text-align: right;\">-20.9045</td><td style=\"text-align: right;\">  6.7966</td><td style=\"text-align: right;\">  9.3417</td><td style=\"text-align: right;\"> 10.2155</td><td style=\"text-align: right;\"> 11.5941</td><td style=\"text-align: right;\">  1.3084</td><td style=\"text-align: right;\">  7.8346</td><td style=\"text-align: right;\"> 12.8029</td><td style=\"text-align: right;\">  0.9685</td><td style=\"text-align: right;\"> -0.6401</td><td style=\"text-align: right;\">   0.3854</td><td style=\"text-align: right;\">  12.125 </td><td style=\"text-align: right;\">  27.8602</td><td style=\"text-align: right;\">   1.224 </td><td style=\"text-align: right;\">   9.9291</td><td style=\"text-align: right;\">   5.412 </td><td style=\"text-align: right;\">   9.764 </td><td style=\"text-align: right;\">  27.7455</td><td style=\"text-align: right;\">  14.1016</td><td style=\"text-align: right;\">  25.9169</td><td style=\"text-align: right;\">   3.3216</td><td style=\"text-align: right;\">   5.5989</td><td style=\"text-align: right;\">   5.056 </td><td style=\"text-align: right;\">  10.9571</td><td style=\"text-align: right;\">   1.1325</td><td style=\"text-align: right;\">  -0.7894</td><td style=\"text-align: right;\">   3.8041</td><td style=\"text-align: right;\">  23.0863</td><td style=\"text-align: right;\"> -24.5122</td><td style=\"text-align: right;\">   4.6938</td><td style=\"text-align: right;\">  31.4476</td><td style=\"text-align: right;\">   9.4732</td><td style=\"text-align: right;\">   5.5884</td><td style=\"text-align: right;\">  18.5127</td><td style=\"text-align: right;\">   0.1348</td><td style=\"text-align: right;\">  12.516 </td><td style=\"text-align: right;\">  12.8744</td><td style=\"text-align: right;\">   1.9396</td><td style=\"text-align: right;\">  -3.025 </td><td style=\"text-align: right;\">  10.3312</td><td style=\"text-align: right;\">  11.208 </td><td style=\"text-align: right;\">  -0.2407</td><td style=\"text-align: right;\">   8.2985</td><td style=\"text-align: right;\">   7.1313</td><td style=\"text-align: right;\">  -8.0724</td><td style=\"text-align: right;\">  -8.7638</td><td style=\"text-align: right;\">  18.8991</td><td style=\"text-align: right;\">  28.2134</td><td style=\"text-align: right;\">   8.7092</td><td style=\"text-align: right;\">  -1.6528</td><td style=\"text-align: right;\">   5.9567</td><td style=\"text-align: right;\">  -1.7683</td><td style=\"text-align: right;\">  16.0498</td><td style=\"text-align: right;\">  12.5814</td><td style=\"text-align: right;\">   9.6512</td><td style=\"text-align: right;\">   3.5681</td><td style=\"text-align: right;\">   9.817 </td><td style=\"text-align: right;\"> -12.1692</td><td style=\"text-align: right;\">   4.2543</td><td style=\"text-align: right;\"> -10.9932</td><td style=\"text-align: right;\">  17.4201</td><td style=\"text-align: right;\">  12.3167</td><td style=\"text-align: right;\">   8.9068</td><td style=\"text-align: right;\">  20.6013</td><td style=\"text-align: right;\">  13.3664</td><td style=\"text-align: right;\"> -10.3179</td><td style=\"text-align: right;\">  12.5572</td><td style=\"text-align: right;\">  -9.7303</td><td style=\"text-align: right;\">   9.5033</td><td style=\"text-align: right;\">  12.4379</td><td style=\"text-align: right;\">  26.701 </td><td style=\"text-align: right;\">   5.883 </td><td style=\"text-align: right;\">   3.8301</td><td style=\"text-align: right;\">  15.0473</td><td style=\"text-align: right;\">   4.8121</td><td style=\"text-align: right;\">  17.1152</td><td style=\"text-align: right;\">   2.4527</td><td style=\"text-align: right;\">  -6.0539</td><td style=\"text-align: right;\">   5.3711</td><td style=\"text-align: right;\">   6.1772</td><td style=\"text-align: right;\">   0.9131</td><td style=\"text-align: right;\">   0.3922</td><td style=\"text-align: right;\">  15.0415</td><td style=\"text-align: right;\">  -1.4703</td><td style=\"text-align: right;\">  30.1926</td><td style=\"text-align: right;\">  10.3408</td><td style=\"text-align: right;\">  -5.4143</td><td style=\"text-align: right;\">  13.9104</td><td style=\"text-align: right;\">   1.621 </td><td style=\"text-align: right;\">   2.0273</td><td style=\"text-align: right;\">  -2.9853</td><td style=\"text-align: right;\">  10.4163</td><td style=\"text-align: right;\"> -12.1494</td><td style=\"text-align: right;\">  10.016 </td><td style=\"text-align: right;\">  13.3454</td><td style=\"text-align: right;\">  -8.1344</td><td style=\"text-align: right;\">   4.6123</td><td style=\"text-align: right;\">   3.4033</td><td style=\"text-align: right;\">  16.831 </td><td style=\"text-align: right;\">   0.6155</td><td style=\"text-align: right;\">   0.1398</td><td style=\"text-align: right;\">   9.2828</td><td style=\"text-align: right;\">   1.3601</td><td style=\"text-align: right;\">   4.8985</td><td style=\"text-align: right;\">  20.0926</td><td style=\"text-align: right;\">  -1.3048</td><td style=\"text-align: right;\">  -2.5981</td><td style=\"text-align: right;\">  10.3378</td><td style=\"text-align: right;\">  14.334 </td></tr>\n",
       "</tbody>\n",
       "</table>"
      ]
     },
     "metadata": {},
     "output_type": "display_data"
    },
    {
     "data": {
      "text/plain": []
     },
     "execution_count": 48,
     "metadata": {},
     "output_type": "execute_result"
    }
   ],
   "source": [
    "df_test_h2o.tail()"
   ]
  },
  {
   "cell_type": "code",
   "execution_count": 47,
   "metadata": {},
   "outputs": [
    {
     "data": {
      "text/html": [
       "<div>\n",
       "<style scoped>\n",
       "    .dataframe tbody tr th:only-of-type {\n",
       "        vertical-align: middle;\n",
       "    }\n",
       "\n",
       "    .dataframe tbody tr th {\n",
       "        vertical-align: top;\n",
       "    }\n",
       "\n",
       "    .dataframe thead th {\n",
       "        text-align: right;\n",
       "    }\n",
       "</style>\n",
       "<table border=\"1\" class=\"dataframe\">\n",
       "  <thead>\n",
       "    <tr style=\"text-align: right;\">\n",
       "      <th></th>\n",
       "      <th>ID_code</th>\n",
       "      <th>var_0</th>\n",
       "      <th>var_1</th>\n",
       "      <th>var_2</th>\n",
       "      <th>var_3</th>\n",
       "      <th>var_4</th>\n",
       "      <th>var_5</th>\n",
       "      <th>var_6</th>\n",
       "      <th>var_7</th>\n",
       "      <th>var_8</th>\n",
       "      <th>...</th>\n",
       "      <th>var_190</th>\n",
       "      <th>var_191</th>\n",
       "      <th>var_192</th>\n",
       "      <th>var_193</th>\n",
       "      <th>var_194</th>\n",
       "      <th>var_195</th>\n",
       "      <th>var_196</th>\n",
       "      <th>var_197</th>\n",
       "      <th>var_198</th>\n",
       "      <th>var_199</th>\n",
       "    </tr>\n",
       "  </thead>\n",
       "  <tbody>\n",
       "    <tr>\n",
       "      <th>199995</th>\n",
       "      <td>test_199995</td>\n",
       "      <td>13.1678</td>\n",
       "      <td>1.0136</td>\n",
       "      <td>10.4333</td>\n",
       "      <td>6.7997</td>\n",
       "      <td>8.5974</td>\n",
       "      <td>-4.1641</td>\n",
       "      <td>4.8579</td>\n",
       "      <td>14.7625</td>\n",
       "      <td>-2.7239</td>\n",
       "      <td>...</td>\n",
       "      <td>2.0544</td>\n",
       "      <td>9.6849</td>\n",
       "      <td>4.6734</td>\n",
       "      <td>-1.3660</td>\n",
       "      <td>12.8721</td>\n",
       "      <td>1.2013</td>\n",
       "      <td>-4.6195</td>\n",
       "      <td>9.1568</td>\n",
       "      <td>18.2102</td>\n",
       "      <td>4.8801</td>\n",
       "    </tr>\n",
       "    <tr>\n",
       "      <th>199996</th>\n",
       "      <td>test_199996</td>\n",
       "      <td>9.7171</td>\n",
       "      <td>-9.1462</td>\n",
       "      <td>7.3443</td>\n",
       "      <td>9.1421</td>\n",
       "      <td>12.8936</td>\n",
       "      <td>3.0191</td>\n",
       "      <td>5.6888</td>\n",
       "      <td>18.8862</td>\n",
       "      <td>5.0915</td>\n",
       "      <td>...</td>\n",
       "      <td>5.0071</td>\n",
       "      <td>6.6548</td>\n",
       "      <td>1.8197</td>\n",
       "      <td>2.4104</td>\n",
       "      <td>18.9037</td>\n",
       "      <td>-0.9337</td>\n",
       "      <td>2.9995</td>\n",
       "      <td>9.1112</td>\n",
       "      <td>18.1740</td>\n",
       "      <td>-20.7689</td>\n",
       "    </tr>\n",
       "    <tr>\n",
       "      <th>199997</th>\n",
       "      <td>test_199997</td>\n",
       "      <td>11.6360</td>\n",
       "      <td>2.2769</td>\n",
       "      <td>11.2074</td>\n",
       "      <td>7.7649</td>\n",
       "      <td>12.6796</td>\n",
       "      <td>11.3224</td>\n",
       "      <td>5.3883</td>\n",
       "      <td>18.3794</td>\n",
       "      <td>1.6603</td>\n",
       "      <td>...</td>\n",
       "      <td>5.1536</td>\n",
       "      <td>2.6498</td>\n",
       "      <td>2.4937</td>\n",
       "      <td>-0.0637</td>\n",
       "      <td>20.0609</td>\n",
       "      <td>-1.1742</td>\n",
       "      <td>-4.1524</td>\n",
       "      <td>9.1933</td>\n",
       "      <td>11.7905</td>\n",
       "      <td>-22.2762</td>\n",
       "    </tr>\n",
       "    <tr>\n",
       "      <th>199998</th>\n",
       "      <td>test_199998</td>\n",
       "      <td>13.5745</td>\n",
       "      <td>-0.5134</td>\n",
       "      <td>13.6584</td>\n",
       "      <td>7.4855</td>\n",
       "      <td>11.2241</td>\n",
       "      <td>-11.3037</td>\n",
       "      <td>4.1959</td>\n",
       "      <td>16.8280</td>\n",
       "      <td>5.3208</td>\n",
       "      <td>...</td>\n",
       "      <td>3.4259</td>\n",
       "      <td>8.5012</td>\n",
       "      <td>2.2713</td>\n",
       "      <td>5.7621</td>\n",
       "      <td>17.0056</td>\n",
       "      <td>1.1763</td>\n",
       "      <td>-2.3761</td>\n",
       "      <td>8.1079</td>\n",
       "      <td>8.7735</td>\n",
       "      <td>-0.2122</td>\n",
       "    </tr>\n",
       "    <tr>\n",
       "      <th>199999</th>\n",
       "      <td>test_199999</td>\n",
       "      <td>10.4664</td>\n",
       "      <td>1.8070</td>\n",
       "      <td>10.2277</td>\n",
       "      <td>6.0654</td>\n",
       "      <td>10.0258</td>\n",
       "      <td>1.0789</td>\n",
       "      <td>4.8879</td>\n",
       "      <td>14.4892</td>\n",
       "      <td>-0.5902</td>\n",
       "      <td>...</td>\n",
       "      <td>0.1398</td>\n",
       "      <td>9.2828</td>\n",
       "      <td>1.3601</td>\n",
       "      <td>4.8985</td>\n",
       "      <td>20.0926</td>\n",
       "      <td>-1.3048</td>\n",
       "      <td>-2.5981</td>\n",
       "      <td>10.3378</td>\n",
       "      <td>14.3340</td>\n",
       "      <td>-7.7094</td>\n",
       "    </tr>\n",
       "  </tbody>\n",
       "</table>\n",
       "<p>5 rows × 201 columns</p>\n",
       "</div>"
      ],
      "text/plain": [
       "            ID_code    var_0   var_1    var_2   var_3    var_4    var_5  \\\n",
       "199995  test_199995  13.1678  1.0136  10.4333  6.7997   8.5974  -4.1641   \n",
       "199996  test_199996   9.7171 -9.1462   7.3443  9.1421  12.8936   3.0191   \n",
       "199997  test_199997  11.6360  2.2769  11.2074  7.7649  12.6796  11.3224   \n",
       "199998  test_199998  13.5745 -0.5134  13.6584  7.4855  11.2241 -11.3037   \n",
       "199999  test_199999  10.4664  1.8070  10.2277  6.0654  10.0258   1.0789   \n",
       "\n",
       "         var_6    var_7   var_8  ...  var_190  var_191  var_192  var_193  \\\n",
       "199995  4.8579  14.7625 -2.7239  ...   2.0544   9.6849   4.6734  -1.3660   \n",
       "199996  5.6888  18.8862  5.0915  ...   5.0071   6.6548   1.8197   2.4104   \n",
       "199997  5.3883  18.3794  1.6603  ...   5.1536   2.6498   2.4937  -0.0637   \n",
       "199998  4.1959  16.8280  5.3208  ...   3.4259   8.5012   2.2713   5.7621   \n",
       "199999  4.8879  14.4892 -0.5902  ...   0.1398   9.2828   1.3601   4.8985   \n",
       "\n",
       "        var_194  var_195  var_196  var_197  var_198  var_199  \n",
       "199995  12.8721   1.2013  -4.6195   9.1568  18.2102   4.8801  \n",
       "199996  18.9037  -0.9337   2.9995   9.1112  18.1740 -20.7689  \n",
       "199997  20.0609  -1.1742  -4.1524   9.1933  11.7905 -22.2762  \n",
       "199998  17.0056   1.1763  -2.3761   8.1079   8.7735  -0.2122  \n",
       "199999  20.0926  -1.3048  -2.5981  10.3378  14.3340  -7.7094  \n",
       "\n",
       "[5 rows x 201 columns]"
      ]
     },
     "execution_count": 47,
     "metadata": {},
     "output_type": "execute_result"
    }
   ],
   "source": [
    "test_df.tail()"
   ]
  },
  {
   "cell_type": "code",
   "execution_count": 55,
   "metadata": {},
   "outputs": [],
   "source": [
    "sample = pd.read_csv('../data/sample_submission.csv')\n",
    "sample['target'] = test_preds.astype(float)"
   ]
  },
  {
   "cell_type": "code",
   "execution_count": 59,
   "metadata": {},
   "outputs": [
    {
     "data": {
      "text/plain": [
       "(200000, 202)"
      ]
     },
     "execution_count": 59,
     "metadata": {},
     "output_type": "execute_result"
    }
   ],
   "source": [
    "df_train_h2o.shape"
   ]
  },
  {
   "cell_type": "code",
   "execution_count": 61,
   "metadata": {},
   "outputs": [
    {
     "data": {
      "text/plain": [
       "(200001, 201)"
      ]
     },
     "execution_count": 61,
     "metadata": {},
     "output_type": "execute_result"
    }
   ],
   "source": [
    "df_test_h2o.shape"
   ]
  },
  {
   "cell_type": "code",
   "execution_count": 60,
   "metadata": {},
   "outputs": [
    {
     "data": {
      "text/plain": [
       "(200000, 201)"
      ]
     },
     "execution_count": 60,
     "metadata": {},
     "output_type": "execute_result"
    }
   ],
   "source": [
    "test_df.shape"
   ]
  },
  {
   "cell_type": "code",
   "execution_count": 62,
   "metadata": {},
   "outputs": [
    {
     "name": "stdout",
     "output_type": "stream",
     "text": [
      "Parse progress: |█████████████████████████████████████████████████████████| 100%\n"
     ]
    }
   ],
   "source": [
    "df_test_h2o = h2o.H2OFrame(test_df)"
   ]
  },
  {
   "cell_type": "code",
   "execution_count": 63,
   "metadata": {},
   "outputs": [
    {
     "data": {
      "text/plain": [
       "(200001, 201)"
      ]
     },
     "execution_count": 63,
     "metadata": {},
     "output_type": "execute_result"
    }
   ],
   "source": []
  },
  {
   "cell_type": "code",
   "execution_count": 67,
   "metadata": {},
   "outputs": [
    {
     "name": "stdout",
     "output_type": "stream",
     "text": [
      "Parse progress: |█████████████████████████████████████████████████████████| 100%\n"
     ]
    }
   ],
   "source": [
    "df_test_h2o = h2o.import_file('../data/test.csv')"
   ]
  },
  {
   "cell_type": "code",
   "execution_count": 68,
   "metadata": {},
   "outputs": [
    {
     "data": {
      "text/plain": [
       "(200000, 201)"
      ]
     },
     "execution_count": 68,
     "metadata": {},
     "output_type": "execute_result"
    }
   ],
   "source": [
    "df_test_h2o.shape"
   ]
  },
  {
   "cell_type": "code",
   "execution_count": null,
   "metadata": {},
   "outputs": [],
   "source": []
  },
  {
   "cell_type": "code",
   "execution_count": null,
   "metadata": {},
   "outputs": [],
   "source": []
  },
  {
   "cell_type": "code",
   "execution_count": null,
   "metadata": {},
   "outputs": [],
   "source": []
  }
 ],
 "metadata": {
  "kernelspec": {
   "display_name": "Python 3",
   "language": "python",
   "name": "python3"
  },
  "language_info": {
   "codemirror_mode": {
    "name": "ipython",
    "version": 3
   },
   "file_extension": ".py",
   "mimetype": "text/x-python",
   "name": "python",
   "nbconvert_exporter": "python",
   "pygments_lexer": "ipython3",
   "version": "3.6.7"
  },
  "toc": {
   "base_numbering": 1,
   "nav_menu": {},
   "number_sections": true,
   "sideBar": true,
   "skip_h1_title": false,
   "title_cell": "Table of Contents",
   "title_sidebar": "Contents",
   "toc_cell": false,
   "toc_position": {},
   "toc_section_display": true,
   "toc_window_display": false
  }
 },
 "nbformat": 4,
 "nbformat_minor": 2
}
