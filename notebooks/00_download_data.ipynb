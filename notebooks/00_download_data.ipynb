{
 "cells": [
  {
   "cell_type": "code",
   "execution_count": 1,
   "metadata": {},
   "outputs": [
    {
     "name": "stdout",
     "output_type": "stream",
     "text": [
      "ref                                            deadline             category            reward  teamCount  userHasEntered  \n",
      "---------------------------------------------  -------------------  ---------------  ---------  ---------  --------------  \n",
      "digit-recognizer                               2030-01-01 00:00:00  Getting Started  Knowledge       2502           False  \n",
      "titanic                                        2030-01-01 00:00:00  Getting Started  Knowledge       9968           False  \n",
      "house-prices-advanced-regression-techniques    2030-01-01 00:00:00  Getting Started  Knowledge       4097            True  \n",
      "imagenet-object-localization-challenge         2029-12-31 07:00:00  Research         Knowledge         35           False  \n",
      "competitive-data-science-predict-future-sales  2019-12-31 23:59:00  Playground           Kudos       2398           False  \n",
      "two-sigma-financial-news                       2019-07-15 23:59:00  Featured          $100,000       2927           False  \n",
      "LANL-Earthquake-Prediction                     2019-06-03 23:59:00  Research           $50,000       1336           False  \n",
      "tmdb-box-office-prediction                     2019-05-30 23:59:00  Playground       Knowledge        275           False  \n",
      "dont-overfit-ii                                2019-05-07 23:59:00  Playground            Swag        775           False  \n",
      "gendered-pronoun-resolution                    2019-04-22 23:59:00  Research           $25,000        248           False  \n",
      "santander-customer-transaction-prediction      2019-04-10 23:59:00  Featured           $65,000       2473            True  \n",
      "womens-machine-learning-competition-2019       2019-04-09 23:59:00  Featured           $25,000         90           False  \n",
      "mens-machine-learning-competition-2019         2019-04-08 23:59:00  Featured           $25,000        163           False  \n",
      "histopathologic-cancer-detection               2019-03-30 23:59:00  Playground       Knowledge        723           False  \n",
      "petfinder-adoption-prediction                  2019-03-28 23:59:00  Featured           $25,000       1310           False  \n",
      "vsb-power-line-fault-detection                 2019-03-21 23:59:00  Featured           $25,000       1048           False  \n",
      "microsoft-malware-prediction                   2019-03-13 23:59:00  Research           $25,000       1939           False  \n",
      "humpback-whale-identification                  2019-02-28 23:59:00  Featured           $25,000       2094            True  \n",
      "elo-merchant-category-recommendation           2019-02-26 23:59:00  Featured           $50,000       4179           False  \n",
      "ga-customer-revenue-prediction                 2019-02-21 20:04:00  Featured           $45,000       3611            True  \n"
     ]
    }
   ],
   "source": [
    "!kaggle competitions list"
   ]
  },
  {
   "cell_type": "code",
   "execution_count": null,
   "metadata": {},
   "outputs": [],
   "source": [
    "!kaggle competitions download santander-customer-transaction-prediction"
   ]
  },
  {
   "cell_type": "code",
   "execution_count": null,
   "metadata": {},
   "outputs": [],
   "source": []
  }
 ],
 "metadata": {
  "kernelspec": {
   "display_name": "Python 3",
   "language": "python",
   "name": "python3"
  },
  "language_info": {
   "codemirror_mode": {
    "name": "ipython",
    "version": 3
   },
   "file_extension": ".py",
   "mimetype": "text/x-python",
   "name": "python",
   "nbconvert_exporter": "python",
   "pygments_lexer": "ipython3",
   "version": "3.6.7"
  },
  "toc": {
   "base_numbering": 1,
   "nav_menu": {},
   "number_sections": true,
   "sideBar": true,
   "skip_h1_title": false,
   "title_cell": "Table of Contents",
   "title_sidebar": "Contents",
   "toc_cell": false,
   "toc_position": {},
   "toc_section_display": true,
   "toc_window_display": false
  }
 },
 "nbformat": 4,
 "nbformat_minor": 2
}
