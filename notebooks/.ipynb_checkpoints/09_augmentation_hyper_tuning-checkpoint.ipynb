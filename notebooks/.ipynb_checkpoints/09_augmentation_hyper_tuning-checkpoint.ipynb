{
 "cells": [
  {
   "cell_type": "code",
   "execution_count": 1,
   "metadata": {},
   "outputs": [],
   "source": [
    "import numpy as np\n",
    "import pandas as pd\n",
    "from sklearn import preprocessing\n",
    "import lightgbm as lgb\n",
    "import os\n",
    "import shutil\n",
    "import matplotlib.pyplot as plt\n",
    "import seaborn as sns\n",
    "from sklearn.model_selection import StratifiedKFold\n",
    "from sklearn.linear_model import LogisticRegression\n",
    "from sklearn.metrics import roc_auc_score\n",
    "\n",
    "pd.options.display.max_columns = 500\n",
    "#import pandas_profiling"
   ]
  },
  {
   "cell_type": "code",
   "execution_count": 2,
   "metadata": {},
   "outputs": [],
   "source": [
    "train_df = pd.read_csv('../data/train.csv')\n",
    "test_df = pd.read_csv('../data/test.csv')"
   ]
  },
  {
   "cell_type": "code",
   "execution_count": 3,
   "metadata": {},
   "outputs": [],
   "source": [
    "random_state = 42\n",
    "np.random.seed(random_state)"
   ]
  },
  {
   "cell_type": "code",
   "execution_count": 4,
   "metadata": {},
   "outputs": [],
   "source": [
    "\n",
    "def augmentation(x=None,y=None,upsample_times=2):\n",
    "    x_pos = x[y==1].copy()\n",
    "    y_pos = y[y==1].copy()\n",
    "    \n",
    "    aug_x_pos = x_pos.copy()\n",
    "    \n",
    "    if upsample_times ==0:\n",
    "        x_pos_temp = np.zeros(x_pos.shape)\n",
    "        for i in range(x_pos.shape[1]):\n",
    "            pos_values = x_pos.iloc[:,i].values\n",
    "            np.random.shuffle(pos_values)\n",
    "            x_pos_temp[:,i] = pos_values\n",
    "\n",
    "        x_pos_temp = pd.DataFrame(x_pos_temp)\n",
    "        x_pos_temp.columns = x_pos.columns  \n",
    "        aug_x_pos = x_pos_temp    \n",
    "        aug_y_pos = np.ones(y_pos.shape[0]) \n",
    "        aug_x_pos = aug_x_pos.append(x[y==0]) \n",
    "        aug_y_pos = np.append(aug_y_pos,y[y==0]) \n",
    "    else:\n",
    "        for n in range(upsample_times):\n",
    "            x_pos_temp = np.zeros(x_pos.shape)\n",
    "\n",
    "            for i in range(x_pos.shape[1]):\n",
    "                pos_values = x_pos.iloc[:,i].values\n",
    "                np.random.shuffle(pos_values)\n",
    "                x_pos_temp[:,i] = pos_values\n",
    "\n",
    "            x_pos_temp = pd.DataFrame(x_pos_temp)\n",
    "            x_pos_temp.columns = x_pos.columns  \n",
    "            aug_x_pos = aug_x_pos.append(x_pos_temp)    \n",
    "\n",
    "        aug_y_pos = np.ones(y_pos.shape[0]*(upsample_times+1)) \n",
    "\n",
    "        aug_x_pos = aug_x_pos.append(x[y==0]) \n",
    "        aug_y_pos = np.append(aug_y_pos,y[y==0]) \n",
    "        \n",
    "    return aug_x_pos,aug_y_pos\n",
    "    \n",
    "    \n",
    "    \n",
    "    "
   ]
  },
  {
   "cell_type": "code",
   "execution_count": 5,
   "metadata": {},
   "outputs": [],
   "source": [
    "# train_df[var_list] = np.exp(train_df[var_list])\n",
    "# test_df[var_list] = np.exp(test_df[var_list])"
   ]
  },
  {
   "cell_type": "code",
   "execution_count": 6,
   "metadata": {},
   "outputs": [],
   "source": [
    "#exclusion = ['ID_code', 'target']+ rank_var_list\n",
    "exclusion = ['ID_code', 'target'] \n",
    "feats = [c for c in train_df.columns if c not in exclusion]"
   ]
  },
  {
   "cell_type": "code",
   "execution_count": 13,
   "metadata": {},
   "outputs": [],
   "source": [
    "# Skopt functions\n",
    "from skopt import BayesSearchCV\n",
    "from skopt import gp_minimize # Bayesian optimization using Gaussian Processes\n",
    "from skopt.space import Real, Categorical, Integer\n",
    "from skopt.utils import use_named_args # decorator to convert a list of parameters to named arguments\n",
    "from skopt.callbacks import DeadlineStopper # Stop the optimization before running out of a fixed budget of time.\n",
    "from skopt.callbacks import VerboseCallback # Callback to control the verbosity\n",
    "from skopt.callbacks import DeltaXStopper # Stop the optimization If the last two positions at which the objective has been evaluated are less than delta"
   ]
  },
  {
   "cell_type": "code",
   "execution_count": 14,
   "metadata": {},
   "outputs": [],
   "source": [
    "# Reporting util for different optimizers\n",
    "def report_perf(optimizer, X, y, title, callbacks=None):\n",
    "    \"\"\"\n",
    "    A wrapper for measuring time and performances of different optmizers\n",
    "    \n",
    "    optimizer = a sklearn or a skopt optimizer\n",
    "    X = the training set \n",
    "    y = our target\n",
    "    title = a string label for the experiment\n",
    "    \"\"\"\n",
    "    start = time()\n",
    "    if callbacks:\n",
    "        optimizer.fit(X, y, callback=callbacks)\n",
    "    else:\n",
    "        optimizer.fit(X, y)\n",
    "    best_score = optimizer.best_score_\n",
    "    best_score_std = optimizer.cv_results_['std_test_score'][optimizer.best_index_]\n",
    "    best_params = optimizer.best_params_\n",
    "    print((title + \" took %.2f seconds,  candidates checked: %d, best CV score: %.3f \"\n",
    "           +u\"\\u00B1\"+\" %.3f\") % (time() - start, \n",
    "                                  len(optimizer.cv_results_['params']),\n",
    "                                  best_score,\n",
    "                                  best_score_std))    \n",
    "    print('Best parameters:')\n",
    "    pprint.pprint(best_params)\n",
    "    print()\n",
    "    return best_params"
   ]
  },
  {
   "cell_type": "code",
   "execution_count": 15,
   "metadata": {},
   "outputs": [],
   "source": [
    "from sklearn.metrics import average_precision_score, roc_auc_score, mean_absolute_error\n",
    "from sklearn.metrics import make_scorer\n",
    "from time import time\n",
    "import pprint"
   ]
  },
  {
   "cell_type": "code",
   "execution_count": 16,
   "metadata": {},
   "outputs": [],
   "source": [
    "auc = make_scorer(roc_auc_score, greater_is_better=True, needs_proba=True)\n"
   ]
  },
  {
   "cell_type": "code",
   "execution_count": 17,
   "metadata": {},
   "outputs": [],
   "source": [
    "n_folds = 5\n",
    "random_seed = 26"
   ]
  },
  {
   "cell_type": "code",
   "execution_count": 18,
   "metadata": {},
   "outputs": [
    {
     "name": "stdout",
     "output_type": "stream",
     "text": [
      "LightGBM took 23306.91 seconds,  candidates checked: 1, best CV score: 0.882 ± 0.001\n",
      "Best parameters:\n",
      "{'colsample_bytree': 0.3706219857878677,\n",
      " 'learning_rate': 0.16624226726409647,\n",
      " 'max_bin': 93400,\n",
      " 'max_depth': 134,\n",
      " 'min_child_samples': 22,\n",
      " 'min_child_weight': 4,\n",
      " 'n_estimators': 24176,\n",
      " 'num_leaves': 27,\n",
      " 'reg_alpha': 1.081049236893711e-05,\n",
      " 'reg_lambda': 1.043686239159047,\n",
      " 'scale_pos_weight': 0.19222548462579486,\n",
      " 'subsample': 0.6941640075502717,\n",
      " 'subsample_for_bin': 375140,\n",
      " 'subsample_freq': 7}\n",
      "\n"
     ]
    }
   ],
   "source": [
    "folds = StratifiedKFold(n_splits=n_folds, shuffle=True, random_state=random_seed)\n",
    "\n",
    "clf = lgb.LGBMClassifier(boosting_type='gbdt',\n",
    "                         #is_unbalance ='true',\n",
    "                         objective='binary',\n",
    "                         #n_jobs=1, \n",
    "                         verbose=0)\n",
    "\n",
    "\n",
    "search_spaces = {\n",
    "        'learning_rate': Real(0.01, 1.0, 'log-uniform'),\n",
    "        'num_leaves': Integer(2, 500),\n",
    "        'max_depth': Integer(0, 500),\n",
    "        'min_child_samples': Integer(0, 200),\n",
    "        'max_bin': Integer(100, 100000),\n",
    "        'subsample': Real(0.01, 1.0, 'uniform'),\n",
    "        'subsample_freq': Integer(0, 10),\n",
    "        'colsample_bytree': Real(0.01, 1.0, 'uniform'),\n",
    "        'min_child_weight': Integer(0, 10),\n",
    "        'subsample_for_bin': Integer(100000, 500000),\n",
    "        'reg_lambda': Real(1e-9, 1000, 'log-uniform'),\n",
    "        'reg_alpha': Real(1e-9, 1.0, 'log-uniform'),\n",
    "        'scale_pos_weight': Real(1e-6, 500, 'log-uniform'),\n",
    "        'n_estimators': Integer(500, 30000)        \n",
    "        }\n",
    "\n",
    "opt = BayesSearchCV(clf,\n",
    "                    search_spaces,\n",
    "                    scoring=auc,\n",
    "                    cv=folds,\n",
    "                    n_iter=40,\n",
    "                    n_jobs=-1,\n",
    "                    return_train_score=False,\n",
    "                    refit=True,\n",
    "                    optimizer_kwargs={'base_estimator': 'GP'},\n",
    "                    random_state=22)\n",
    "X = train_df[feats]\n",
    "y = train_df['target']    \n",
    "best_params = report_perf(opt, X, y,'LightGBM', \n",
    "                          callbacks=[DeltaXStopper(0.001), \n",
    "                                     DeadlineStopper(60*5)])"
   ]
  },
  {
   "cell_type": "code",
   "execution_count": 20,
   "metadata": {},
   "outputs": [
    {
     "data": {
      "text/plain": [
       "{'colsample_bytree': 0.3706219857878677,\n",
       " 'learning_rate': 0.16624226726409647,\n",
       " 'max_bin': 93400,\n",
       " 'max_depth': 134,\n",
       " 'min_child_samples': 22,\n",
       " 'min_child_weight': 4,\n",
       " 'n_estimators': 24176,\n",
       " 'num_leaves': 27,\n",
       " 'reg_alpha': 1.081049236893711e-05,\n",
       " 'reg_lambda': 1.043686239159047,\n",
       " 'scale_pos_weight': 0.19222548462579486,\n",
       " 'subsample': 0.6941640075502717,\n",
       " 'subsample_for_bin': 375140,\n",
       " 'subsample_freq': 7}"
      ]
     },
     "execution_count": 20,
     "metadata": {},
     "output_type": "execute_result"
    }
   ],
   "source": [
    "best_params"
   ]
  },
  {
   "cell_type": "code",
   "execution_count": 26,
   "metadata": {},
   "outputs": [],
   "source": [
    "pd.DataFrame(best_params, index=[0]).to_csv('best_params_20190323')"
   ]
  },
  {
   "cell_type": "code",
   "execution_count": null,
   "metadata": {},
   "outputs": [],
   "source": []
  }
 ],
 "metadata": {
  "kernelspec": {
   "display_name": "Python 3",
   "language": "python",
   "name": "python3"
  },
  "language_info": {
   "codemirror_mode": {
    "name": "ipython",
    "version": 3
   },
   "file_extension": ".py",
   "mimetype": "text/x-python",
   "name": "python",
   "nbconvert_exporter": "python",
   "pygments_lexer": "ipython3",
   "version": "3.7.1"
  },
  "toc": {
   "base_numbering": 1,
   "nav_menu": {},
   "number_sections": true,
   "sideBar": true,
   "skip_h1_title": false,
   "title_cell": "Table of Contents",
   "title_sidebar": "Contents",
   "toc_cell": false,
   "toc_position": {},
   "toc_section_display": true,
   "toc_window_display": false
  }
 },
 "nbformat": 4,
 "nbformat_minor": 2
}
